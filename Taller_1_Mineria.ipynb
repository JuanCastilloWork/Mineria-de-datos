{
  "nbformat": 4,
  "nbformat_minor": 0,
  "metadata": {
    "colab": {
      "provenance": [],
      "collapsed_sections": []
    },
    "kernelspec": {
      "name": "python3",
      "display_name": "Python 3"
    },
    "language_info": {
      "name": "python"
    }
  },
  "cells": [
    {
      "cell_type": "code",
      "execution_count": null,
      "metadata": {
        "id": "BclvINsyAMPv"
      },
      "outputs": [],
      "source": [
        "## Primer punto\n",
        "def Fahrenheit(num):\n",
        "  celcius=5/9 * (num -32)\n",
        "  return(celcius)"
      ]
    },
    {
      "cell_type": "code",
      "source": [
        "Fahrenheit(34)"
      ],
      "metadata": {
        "colab": {
          "base_uri": "https://localhost:8080/"
        },
        "id": "JMXU8QroBUVY",
        "outputId": "af56c181-8d98-4767-feae-435021a20c98"
      },
      "execution_count": null,
      "outputs": [
        {
          "output_type": "execute_result",
          "data": {
            "text/plain": [
              "1.1111111111111112"
            ]
          },
          "metadata": {},
          "execution_count": 9
        }
      ]
    },
    {
      "cell_type": "code",
      "source": [
        "## Segundo punto"
      ],
      "metadata": {
        "id": "DCZdNez1BgTZ"
      },
      "execution_count": null,
      "outputs": []
    },
    {
      "cell_type": "code",
      "source": [
        "def contraseña(texto):\n",
        " b=list(texto)\n",
        " n=len(texto);c=[];m=0;u=[]\n",
        " for i in range(0,n,1):\n",
        "    if b[i]==\"1\" or b[i]==\"2\" or b[i]==\"3\" or b[i]==\"4\"or b[i]==\"5\"or b[i]==\"6\"or b[i]==\"7\"or b[i]==\"8\"or b[i]==\"9\"or b[i]==\"0\":\n",
        "      u=u+[1]\n",
        "    elif b[i]==\"*\" or b[i]==\"_\" or b[i]==\"!\" or b[i]==\"$\" or b[i]==\"%\":\n",
        "      c=c+[1]\n",
        "    elif b[i].islower()==True:\n",
        "      m=0\n",
        "    else:\n",
        "      m=1  \n",
        " if sum(u)==0 :\n",
        "   print(\"Falta al menos un caracter numerico\")\n",
        " elif sum(c)==0:\n",
        "   print(\"Falta al menos uno de los siguientes carácter especiales : *, _ , !, $, %\")\n",
        " elif m==0:\n",
        "   print(\"Falta al menos una mayúscula\")\n",
        " else:\n",
        "   print(\"Esta bien la clave uwu\")\n",
        "\n"
      ],
      "metadata": {
        "id": "3z8YW6TYC1_d"
      },
      "execution_count": null,
      "outputs": []
    },
    {
      "cell_type": "code",
      "source": [
        "contraseña(\"*1F\")\n",
        "c=0"
      ],
      "metadata": {
        "colab": {
          "base_uri": "https://localhost:8080/"
        },
        "id": "D_KUSnAmM-9d",
        "outputId": "7efd04f2-d531-4bc0-a363-2b3e96dac3e7"
      },
      "execution_count": null,
      "outputs": [
        {
          "output_type": "stream",
          "name": "stdout",
          "text": [
            "Esta bien la clave uwu\n"
          ]
        }
      ]
    },
    {
      "cell_type": "code",
      "source": [
        "n=\"uAa2_\""
      ],
      "metadata": {
        "id": "S2WS_vbAQU-2"
      },
      "execution_count": null,
      "outputs": []
    },
    {
      "cell_type": "code",
      "source": [
        "#### Tercer punto\n",
        "\n",
        "######### Usando unas funciones tomadas de http://edupython.blogspot.com/2016/06/combinaciones-permutaciones-y-otras.html, se usara la funcion combinaciones\n",
        "\n",
        "def potencia(c):\n",
        "    \"\"\"Calcula y devuelve el conjunto potencia del \n",
        "       conjunto c. siendo el conjunto potencia todos los grupos sin importar el orden (Combinatoria)que se pueden armar \n",
        "       de tamaño 1, 2...hasta n datos\n",
        "    \"\"\"\n",
        "    if len(c) == 0:\n",
        "        return [[]]\n",
        "    r = potencia(c[:-1])\n",
        "    return r + [s + [c[-1]] for s in r]\n",
        "\n",
        "def imprime_ordenado(c):\n",
        "    \"\"\"Imprime en la salida estándar todos los\n",
        "       subconjuntos del conjunto c (una lista de\n",
        "       listas) ordenados primero por tamaño y\n",
        "       luego lexicográficamente. Cada subconjunto\n",
        "       se imprime en su propia línea. Los\n",
        "       elementos de los subconjuntos deben ser\n",
        "       comparables entre sí, de otra forma puede\n",
        "       ocurrir un TypeError.\n",
        "    \"\"\"\n",
        "    for e in sorted(c, key=lambda s: (len(s), s)):\n",
        "        print(e)\n",
        "\n",
        "\n",
        "def combinaciones(c, n):\n",
        "    \"\"\"Calcula y devuelve una lista con todas las\n",
        "       combinaciones posibles que se pueden hacer\n",
        "       con los elementos contenidos en c tomando n\n",
        "       elementos a la vez.\n",
        "    \"\"\"\n",
        "    return [s for s in potencia(c) if len(s) == n]"
      ],
      "metadata": {
        "id": "uY4EYH1iYkDn"
      },
      "execution_count": 128,
      "outputs": []
    },
    {
      "cell_type": "code",
      "source": [
        "d=[50000, 30000,  80000, 20000, 100000, 40000]\n",
        "c=[]\n",
        "for i in range(0,10):\n",
        "  ##### Creo las 10 primeras combinaciones con la funcion combinaciones\n",
        "  ##### y las otras 10 como complemento de las 10 primeras para que en los pares de combinaciones no se repitan elementos\n",
        "  diccionario=[50000, 30000,  80000, 20000, 100000, 40000]\n",
        "  m=combinaciones(diccionario,3)\n",
        "  diccionario.remove(m[i][0]);diccionario.remove(m[i][1]);diccionario.remove(m[i][2])  \n",
        "  c=c+diccionario[:]\n",
        "\n",
        "m1=[];m2=[];suma=[]\n",
        "for i in range(0,10):\n",
        "  m1=m1+[min(m[i])] # Calcula el minimo para cada una 10 primeras combinaciones y lo guarda\n",
        "  m2=m2+[min(c[3*i:3*i+3])] # Calcula el valor minimo de cada una de las 10 combinaciones complemento y se guarda\n",
        "  suma=suma+[(m1[i]+m2[i])] # Se suman los valores minimos de los pares de combinaciones y se guarda\n",
        "\n",
        "o=[];u=[]  \n",
        "for j in range(0,10):\n",
        "  if suma[j]==max(suma): # Se busca el valor maximo de la suma por ende el mayor descuento y se corrobora que pareja de combinaciones es, si hubieran dos maximos hay qye cambiar\n",
        "    o=o+m[j]\n",
        "    u=u+c[3*j:3*j+3]\n",
        "x=[0,0,0]\n",
        "for i in range(0,3):\n",
        "  if o[i]==50000: # Se verifica por elemento a que libro corresponde para las primeras 10 combinaciones\n",
        "    x[i]=\"Libro 1\"\n",
        "  elif o[i]==30000:\n",
        "    x[i]=\"Libro 2\"\n",
        "  elif o[i]==80000:\n",
        "    x[i]=\"Libro 3\"\n",
        "  elif o[i]==20000:\n",
        "    x[i]=\"Libro 4\"\n",
        "  elif o[i]==100000:\n",
        "    x[i]=\"Libro 5\"\n",
        "  elif o[i]==40000:\n",
        "    x[i]=\"Libro 6\"\n",
        "y=[0,0,0]\n",
        "for i in range(0,3):\n",
        "  if u[i]==50000: # Se verifica por elemento a que libro corresponde con las combinaciones complemento\n",
        "    y[i]=\"Libro 1\"\n",
        "  elif u[i]==30000:\n",
        "    y[i]=\"Libro 2\"\n",
        "  elif u[i]==80000:\n",
        "    y[i]=\"Libro 3\"\n",
        "  elif u[i]==20000:\n",
        "    y[i]=\"Libro 4\"\n",
        "  elif u[i]==100000:\n",
        "    y[i]=\"Libro 5\"\n",
        "  elif u[i]==40000:\n",
        "    y[i]=\"Libro 6\"\n",
        "print(\" Combinacion de libros 1:\" +x[0]+\",\"+x[1]+\",\"+x[2]+\"\\n Combinación de libros 2:\"+y[0]+\",\"+y[1]+\",\"+y[2] +\"\\n Total de dinero ahorrado: \" ,sum(d),\"-\",max(suma))"
      ],
      "metadata": {
        "colab": {
          "base_uri": "https://localhost:8080/"
        },
        "id": "IIYU6fnj9jKI",
        "outputId": "55a6a660-ded8-49a3-ada0-b50bd96da4a4"
      },
      "execution_count": 136,
      "outputs": [
        {
          "output_type": "stream",
          "name": "stdout",
          "text": [
            " Combinacion de libros 1:Libro 1,Libro 3,Libro 5\n",
            " Combinación de libros 2:Libro 2,Libro 4,Libro 6\n",
            " Total de dinero ahorrado:  320000 - 70000\n"
          ]
        }
      ]
    },
    {
      "cell_type": "code",
      "source": [
        "## Gracias por la lectura"
      ],
      "metadata": {
        "colab": {
          "base_uri": "https://localhost:8080/"
        },
        "id": "z78RW7wNwD0a",
        "outputId": "fc0fdec5-9c4f-4212-8c62-bd03dee34599"
      },
      "execution_count": 107,
      "outputs": [
        {
          "output_type": "execute_result",
          "data": {
            "text/plain": [
              "['libro 1', 0, 0]"
            ]
          },
          "metadata": {},
          "execution_count": 107
        }
      ]
    }
  ]
}