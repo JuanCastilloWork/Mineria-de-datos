{
  "nbformat": 4,
  "nbformat_minor": 0,
  "metadata": {
    "kernelspec": {
      "display_name": "Python 3",
      "language": "python",
      "name": "python3"
    },
    "language_info": {
      "codemirror_mode": {
        "name": "ipython",
        "version": 3
      },
      "file_extension": ".py",
      "mimetype": "text/x-python",
      "name": "python",
      "nbconvert_exporter": "python",
      "pygments_lexer": "ipython3",
      "version": "3.6.7"
    },
    "colab": {
      "provenance": [],
      "collapsed_sections": [
        "7MfWJaSUrQmo",
        "6ZotgUpZrQm_",
        "ka0sMeFdrQnB",
        "gnKKbfKZrQnD",
        "ErUjHQE5rQnE",
        "Lfvf_pqSkbzI"
      ]
    }
  },
  "cells": [
    {
      "cell_type": "markdown",
      "metadata": {
        "id": "7MfWJaSUrQmo"
      },
      "source": [
        "# Taller modelos lineales\n",
        "\n",
        "Realizado por: Juan David Castillo Garza y Daniela Alexandra Herrera Faldiño\n",
        "\n",
        "# Parte 1 - Regresión lineal\n",
        "\n",
        "Estimar una regresión con los datos de ingresos\n",
        "\n",
        "\n",
        "## Previsión de ingresos\n",
        "\n",
        "Vamos a trabajar con un conjunto de datos del censo de EE.UU. indome ([diccionario de datos](https://archive.ics.uci.edu/ml/datasets/Adult))\n",
        "\n",
        "A muchas empresas les gustaría personalizar su oferta en función de los ingresos del cliente. Los clientes con ingresos elevados podrían, por ejemplo, estar expuestos a productos premium. Como los ingresos de un cliente no siempre se conocen explícitamente, el modelo predictivo podría estimar los ingresos de una persona basándose en otra información.\n",
        "\n",
        "Nuestro objetivo es crear un modelo predictivo que sea capaz de dar una estimación de los ingresos de una persona.\n"
      ]
    },
    {
      "cell_type": "code",
      "metadata": {
        "colab": {
          "base_uri": "https://localhost:8080/",
          "height": 206
        },
        "id": "eK62OxWerQmx",
        "outputId": "0745842c-48ed-42cc-fe45-55b215a28c50"
      },
      "source": [
        "import pandas as pd\n",
        "import numpy as np\n",
        "import sklearn as sk\n",
        "import seaborn as sb\n",
        "\n",
        "%matplotlib inline\n",
        "import matplotlib.pyplot as plt\n",
        "\n",
        "# read the data and set the datetime as the index\n",
        "income = pd.read_csv('https://github.com/albahnsen/PracticalMachineLearningClass/raw/master/datasets/income.csv.zip', index_col=0)\n",
        "\n",
        "income.head()"
      ],
      "execution_count": 241,
      "outputs": [
        {
          "output_type": "execute_result",
          "data": {
            "text/plain": [
              "   Age         Workclass  fnlwgt  Education  Education-Num  \\\n",
              "0   39         State-gov   77516  Bachelors             13   \n",
              "1   50  Self-emp-not-inc   83311  Bachelors             13   \n",
              "2   38           Private  215646    HS-grad              9   \n",
              "3   53           Private  234721       11th              7   \n",
              "4   28           Private  338409  Bachelors             13   \n",
              "\n",
              "       Martial Status         Occupation   Relationship   Race     Sex  \\\n",
              "0       Never-married       Adm-clerical  Not-in-family  White    Male   \n",
              "1  Married-civ-spouse    Exec-managerial        Husband  White    Male   \n",
              "2            Divorced  Handlers-cleaners  Not-in-family  White    Male   \n",
              "3  Married-civ-spouse  Handlers-cleaners        Husband  Black    Male   \n",
              "4  Married-civ-spouse     Prof-specialty           Wife  Black  Female   \n",
              "\n",
              "   Capital Gain  Capital Loss  Hours per week        Country   Income  \n",
              "0          2174             0              40  United-States  51806.0  \n",
              "1             0             0              13  United-States  68719.0  \n",
              "2             0             0              40  United-States  51255.0  \n",
              "3             0             0              40  United-States  47398.0  \n",
              "4             0             0              40           Cuba  30493.0  "
            ],
            "text/html": [
              "\n",
              "  <div id=\"df-446922d7-c73d-4e3a-a5a5-1e7781cc5efb\">\n",
              "    <div class=\"colab-df-container\">\n",
              "      <div>\n",
              "<style scoped>\n",
              "    .dataframe tbody tr th:only-of-type {\n",
              "        vertical-align: middle;\n",
              "    }\n",
              "\n",
              "    .dataframe tbody tr th {\n",
              "        vertical-align: top;\n",
              "    }\n",
              "\n",
              "    .dataframe thead th {\n",
              "        text-align: right;\n",
              "    }\n",
              "</style>\n",
              "<table border=\"1\" class=\"dataframe\">\n",
              "  <thead>\n",
              "    <tr style=\"text-align: right;\">\n",
              "      <th></th>\n",
              "      <th>Age</th>\n",
              "      <th>Workclass</th>\n",
              "      <th>fnlwgt</th>\n",
              "      <th>Education</th>\n",
              "      <th>Education-Num</th>\n",
              "      <th>Martial Status</th>\n",
              "      <th>Occupation</th>\n",
              "      <th>Relationship</th>\n",
              "      <th>Race</th>\n",
              "      <th>Sex</th>\n",
              "      <th>Capital Gain</th>\n",
              "      <th>Capital Loss</th>\n",
              "      <th>Hours per week</th>\n",
              "      <th>Country</th>\n",
              "      <th>Income</th>\n",
              "    </tr>\n",
              "  </thead>\n",
              "  <tbody>\n",
              "    <tr>\n",
              "      <th>0</th>\n",
              "      <td>39</td>\n",
              "      <td>State-gov</td>\n",
              "      <td>77516</td>\n",
              "      <td>Bachelors</td>\n",
              "      <td>13</td>\n",
              "      <td>Never-married</td>\n",
              "      <td>Adm-clerical</td>\n",
              "      <td>Not-in-family</td>\n",
              "      <td>White</td>\n",
              "      <td>Male</td>\n",
              "      <td>2174</td>\n",
              "      <td>0</td>\n",
              "      <td>40</td>\n",
              "      <td>United-States</td>\n",
              "      <td>51806.0</td>\n",
              "    </tr>\n",
              "    <tr>\n",
              "      <th>1</th>\n",
              "      <td>50</td>\n",
              "      <td>Self-emp-not-inc</td>\n",
              "      <td>83311</td>\n",
              "      <td>Bachelors</td>\n",
              "      <td>13</td>\n",
              "      <td>Married-civ-spouse</td>\n",
              "      <td>Exec-managerial</td>\n",
              "      <td>Husband</td>\n",
              "      <td>White</td>\n",
              "      <td>Male</td>\n",
              "      <td>0</td>\n",
              "      <td>0</td>\n",
              "      <td>13</td>\n",
              "      <td>United-States</td>\n",
              "      <td>68719.0</td>\n",
              "    </tr>\n",
              "    <tr>\n",
              "      <th>2</th>\n",
              "      <td>38</td>\n",
              "      <td>Private</td>\n",
              "      <td>215646</td>\n",
              "      <td>HS-grad</td>\n",
              "      <td>9</td>\n",
              "      <td>Divorced</td>\n",
              "      <td>Handlers-cleaners</td>\n",
              "      <td>Not-in-family</td>\n",
              "      <td>White</td>\n",
              "      <td>Male</td>\n",
              "      <td>0</td>\n",
              "      <td>0</td>\n",
              "      <td>40</td>\n",
              "      <td>United-States</td>\n",
              "      <td>51255.0</td>\n",
              "    </tr>\n",
              "    <tr>\n",
              "      <th>3</th>\n",
              "      <td>53</td>\n",
              "      <td>Private</td>\n",
              "      <td>234721</td>\n",
              "      <td>11th</td>\n",
              "      <td>7</td>\n",
              "      <td>Married-civ-spouse</td>\n",
              "      <td>Handlers-cleaners</td>\n",
              "      <td>Husband</td>\n",
              "      <td>Black</td>\n",
              "      <td>Male</td>\n",
              "      <td>0</td>\n",
              "      <td>0</td>\n",
              "      <td>40</td>\n",
              "      <td>United-States</td>\n",
              "      <td>47398.0</td>\n",
              "    </tr>\n",
              "    <tr>\n",
              "      <th>4</th>\n",
              "      <td>28</td>\n",
              "      <td>Private</td>\n",
              "      <td>338409</td>\n",
              "      <td>Bachelors</td>\n",
              "      <td>13</td>\n",
              "      <td>Married-civ-spouse</td>\n",
              "      <td>Prof-specialty</td>\n",
              "      <td>Wife</td>\n",
              "      <td>Black</td>\n",
              "      <td>Female</td>\n",
              "      <td>0</td>\n",
              "      <td>0</td>\n",
              "      <td>40</td>\n",
              "      <td>Cuba</td>\n",
              "      <td>30493.0</td>\n",
              "    </tr>\n",
              "  </tbody>\n",
              "</table>\n",
              "</div>\n",
              "      <button class=\"colab-df-convert\" onclick=\"convertToInteractive('df-446922d7-c73d-4e3a-a5a5-1e7781cc5efb')\"\n",
              "              title=\"Convert this dataframe to an interactive table.\"\n",
              "              style=\"display:none;\">\n",
              "        \n",
              "  <svg xmlns=\"http://www.w3.org/2000/svg\" height=\"24px\"viewBox=\"0 0 24 24\"\n",
              "       width=\"24px\">\n",
              "    <path d=\"M0 0h24v24H0V0z\" fill=\"none\"/>\n",
              "    <path d=\"M18.56 5.44l.94 2.06.94-2.06 2.06-.94-2.06-.94-.94-2.06-.94 2.06-2.06.94zm-11 1L8.5 8.5l.94-2.06 2.06-.94-2.06-.94L8.5 2.5l-.94 2.06-2.06.94zm10 10l.94 2.06.94-2.06 2.06-.94-2.06-.94-.94-2.06-.94 2.06-2.06.94z\"/><path d=\"M17.41 7.96l-1.37-1.37c-.4-.4-.92-.59-1.43-.59-.52 0-1.04.2-1.43.59L10.3 9.45l-7.72 7.72c-.78.78-.78 2.05 0 2.83L4 21.41c.39.39.9.59 1.41.59.51 0 1.02-.2 1.41-.59l7.78-7.78 2.81-2.81c.8-.78.8-2.07 0-2.86zM5.41 20L4 18.59l7.72-7.72 1.47 1.35L5.41 20z\"/>\n",
              "  </svg>\n",
              "      </button>\n",
              "      \n",
              "  <style>\n",
              "    .colab-df-container {\n",
              "      display:flex;\n",
              "      flex-wrap:wrap;\n",
              "      gap: 12px;\n",
              "    }\n",
              "\n",
              "    .colab-df-convert {\n",
              "      background-color: #E8F0FE;\n",
              "      border: none;\n",
              "      border-radius: 50%;\n",
              "      cursor: pointer;\n",
              "      display: none;\n",
              "      fill: #1967D2;\n",
              "      height: 32px;\n",
              "      padding: 0 0 0 0;\n",
              "      width: 32px;\n",
              "    }\n",
              "\n",
              "    .colab-df-convert:hover {\n",
              "      background-color: #E2EBFA;\n",
              "      box-shadow: 0px 1px 2px rgba(60, 64, 67, 0.3), 0px 1px 3px 1px rgba(60, 64, 67, 0.15);\n",
              "      fill: #174EA6;\n",
              "    }\n",
              "\n",
              "    [theme=dark] .colab-df-convert {\n",
              "      background-color: #3B4455;\n",
              "      fill: #D2E3FC;\n",
              "    }\n",
              "\n",
              "    [theme=dark] .colab-df-convert:hover {\n",
              "      background-color: #434B5C;\n",
              "      box-shadow: 0px 1px 3px 1px rgba(0, 0, 0, 0.15);\n",
              "      filter: drop-shadow(0px 1px 2px rgba(0, 0, 0, 0.3));\n",
              "      fill: #FFFFFF;\n",
              "    }\n",
              "  </style>\n",
              "\n",
              "      <script>\n",
              "        const buttonEl =\n",
              "          document.querySelector('#df-446922d7-c73d-4e3a-a5a5-1e7781cc5efb button.colab-df-convert');\n",
              "        buttonEl.style.display =\n",
              "          google.colab.kernel.accessAllowed ? 'block' : 'none';\n",
              "\n",
              "        async function convertToInteractive(key) {\n",
              "          const element = document.querySelector('#df-446922d7-c73d-4e3a-a5a5-1e7781cc5efb');\n",
              "          const dataTable =\n",
              "            await google.colab.kernel.invokeFunction('convertToInteractive',\n",
              "                                                     [key], {});\n",
              "          if (!dataTable) return;\n",
              "\n",
              "          const docLinkHtml = 'Like what you see? Visit the ' +\n",
              "            '<a target=\"_blank\" href=https://colab.research.google.com/notebooks/data_table.ipynb>data table notebook</a>'\n",
              "            + ' to learn more about interactive tables.';\n",
              "          element.innerHTML = '';\n",
              "          dataTable['output_type'] = 'display_data';\n",
              "          await google.colab.output.renderOutput(dataTable, element);\n",
              "          const docLink = document.createElement('div');\n",
              "          docLink.innerHTML = docLinkHtml;\n",
              "          element.appendChild(docLink);\n",
              "        }\n",
              "      </script>\n",
              "    </div>\n",
              "  </div>\n",
              "  "
            ]
          },
          "metadata": {},
          "execution_count": 241
        }
      ]
    },
    {
      "cell_type": "code",
      "metadata": {
        "colab": {
          "base_uri": "https://localhost:8080/"
        },
        "id": "ZvEW_YjhrQm2",
        "outputId": "1275d798-4391-42db-8d92-30a97b153d38"
      },
      "source": [
        "income.shape"
      ],
      "execution_count": 242,
      "outputs": [
        {
          "output_type": "execute_result",
          "data": {
            "text/plain": [
              "(32561, 15)"
            ]
          },
          "metadata": {},
          "execution_count": 242
        }
      ]
    },
    {
      "cell_type": "markdown",
      "metadata": {
        "id": "oHu8-0bSrQm4"
      },
      "source": [
        "## Ejercicio 4.1 \n",
        "\n",
        "¿Cuál es la relación entre la edad y la renta?\n",
        "\n"
      ]
    },
    {
      "cell_type": "code",
      "metadata": {
        "id": "1jJabJiPrQm4",
        "colab": {
          "base_uri": "https://localhost:8080/",
          "height": 297
        },
        "outputId": "2c24d05b-c585-4c66-d744-7403879651c6"
      },
      "source": [
        "income.plot(x='Age', y='Income', kind='scatter')"
      ],
      "execution_count": 243,
      "outputs": [
        {
          "output_type": "execute_result",
          "data": {
            "text/plain": [
              "<matplotlib.axes._subplots.AxesSubplot at 0x7f787bca9d90>"
            ]
          },
          "metadata": {},
          "execution_count": 243
        },
        {
          "output_type": "display_data",
          "data": {
            "text/plain": [
              "<Figure size 432x288 with 1 Axes>"
            ],
            "image/png": "[encoded data removed]"
          },
          "metadata": {
            "needs_background": "light"
          }
        }
      ]
    },
    {
      "cell_type": "markdown",
      "source": [
        "Es una relacion proporcional en los primeros años, a medida que incrementa la edad, incrementa el ingreso, pero en los años 50 a mayor, parece que el rango de ingresos es constante independientemente que se incremente la edad, y esto se puede confirmar con la correlacion"
      ],
      "metadata": {
        "id": "Xdr1H3Sd-8xN"
      }
    },
    {
      "cell_type": "code",
      "source": [
        "income[['Age','Income']].corr()"
      ],
      "metadata": {
        "colab": {
          "base_uri": "https://localhost:8080/",
          "height": 112
        },
        "id": "IjZZz8_MGRuZ",
        "outputId": "3b9a01d2-164c-4f56-bb84-c8c0cac18c01"
      },
      "execution_count": 244,
      "outputs": [
        {
          "output_type": "execute_result",
          "data": {
            "text/plain": [
              "             Age    Income\n",
              "Age     1.000000  0.290408\n",
              "Income  0.290408  1.000000"
            ],
            "text/html": [
              "\n",
              "  <div id=\"df-d56398d5-bc4d-422b-bbda-b549b82e1f6a\">\n",
              "    <div class=\"colab-df-container\">\n",
              "      <div>\n",
              "<style scoped>\n",
              "    .dataframe tbody tr th:only-of-type {\n",
              "        vertical-align: middle;\n",
              "    }\n",
              "\n",
              "    .dataframe tbody tr th {\n",
              "        vertical-align: top;\n",
              "    }\n",
              "\n",
              "    .dataframe thead th {\n",
              "        text-align: right;\n",
              "    }\n",
              "</style>\n",
              "<table border=\"1\" class=\"dataframe\">\n",
              "  <thead>\n",
              "    <tr style=\"text-align: right;\">\n",
              "      <th></th>\n",
              "      <th>Age</th>\n",
              "      <th>Income</th>\n",
              "    </tr>\n",
              "  </thead>\n",
              "  <tbody>\n",
              "    <tr>\n",
              "      <th>Age</th>\n",
              "      <td>1.000000</td>\n",
              "      <td>0.290408</td>\n",
              "    </tr>\n",
              "    <tr>\n",
              "      <th>Income</th>\n",
              "      <td>0.290408</td>\n",
              "      <td>1.000000</td>\n",
              "    </tr>\n",
              "  </tbody>\n",
              "</table>\n",
              "</div>\n",
              "      <button class=\"colab-df-convert\" onclick=\"convertToInteractive('df-d56398d5-bc4d-422b-bbda-b549b82e1f6a')\"\n",
              "              title=\"Convert this dataframe to an interactive table.\"\n",
              "              style=\"display:none;\">\n",
              "        \n",
              "  <svg xmlns=\"http://www.w3.org/2000/svg\" height=\"24px\"viewBox=\"0 0 24 24\"\n",
              "       width=\"24px\">\n",
              "    <path d=\"M0 0h24v24H0V0z\" fill=\"none\"/>\n",
              "    <path d=\"M18.56 5.44l.94 2.06.94-2.06 2.06-.94-2.06-.94-.94-2.06-.94 2.06-2.06.94zm-11 1L8.5 8.5l.94-2.06 2.06-.94-2.06-.94L8.5 2.5l-.94 2.06-2.06.94zm10 10l.94 2.06.94-2.06 2.06-.94-2.06-.94-.94-2.06-.94 2.06-2.06.94z\"/><path d=\"M17.41 7.96l-1.37-1.37c-.4-.4-.92-.59-1.43-.59-.52 0-1.04.2-1.43.59L10.3 9.45l-7.72 7.72c-.78.78-.78 2.05 0 2.83L4 21.41c.39.39.9.59 1.41.59.51 0 1.02-.2 1.41-.59l7.78-7.78 2.81-2.81c.8-.78.8-2.07 0-2.86zM5.41 20L4 18.59l7.72-7.72 1.47 1.35L5.41 20z\"/>\n",
              "  </svg>\n",
              "      </button>\n",
              "      \n",
              "  <style>\n",
              "    .colab-df-container {\n",
              "      display:flex;\n",
              "      flex-wrap:wrap;\n",
              "      gap: 12px;\n",
              "    }\n",
              "\n",
              "    .colab-df-convert {\n",
              "      background-color: #E8F0FE;\n",
              "      border: none;\n",
              "      border-radius: 50%;\n",
              "      cursor: pointer;\n",
              "      display: none;\n",
              "      fill: #1967D2;\n",
              "      height: 32px;\n",
              "      padding: 0 0 0 0;\n",
              "      width: 32px;\n",
              "    }\n",
              "\n",
              "    .colab-df-convert:hover {\n",
              "      background-color: #E2EBFA;\n",
              "      box-shadow: 0px 1px 2px rgba(60, 64, 67, 0.3), 0px 1px 3px 1px rgba(60, 64, 67, 0.15);\n",
              "      fill: #174EA6;\n",
              "    }\n",
              "\n",
              "    [theme=dark] .colab-df-convert {\n",
              "      background-color: #3B4455;\n",
              "      fill: #D2E3FC;\n",
              "    }\n",
              "\n",
              "    [theme=dark] .colab-df-convert:hover {\n",
              "      background-color: #434B5C;\n",
              "      box-shadow: 0px 1px 3px 1px rgba(0, 0, 0, 0.15);\n",
              "      filter: drop-shadow(0px 1px 2px rgba(0, 0, 0, 0.3));\n",
              "      fill: #FFFFFF;\n",
              "    }\n",
              "  </style>\n",
              "\n",
              "      <script>\n",
              "        const buttonEl =\n",
              "          document.querySelector('#df-d56398d5-bc4d-422b-bbda-b549b82e1f6a button.colab-df-convert');\n",
              "        buttonEl.style.display =\n",
              "          google.colab.kernel.accessAllowed ? 'block' : 'none';\n",
              "\n",
              "        async function convertToInteractive(key) {\n",
              "          const element = document.querySelector('#df-d56398d5-bc4d-422b-bbda-b549b82e1f6a');\n",
              "          const dataTable =\n",
              "            await google.colab.kernel.invokeFunction('convertToInteractive',\n",
              "                                                     [key], {});\n",
              "          if (!dataTable) return;\n",
              "\n",
              "          const docLinkHtml = 'Like what you see? Visit the ' +\n",
              "            '<a target=\"_blank\" href=https://colab.research.google.com/notebooks/data_table.ipynb>data table notebook</a>'\n",
              "            + ' to learn more about interactive tables.';\n",
              "          element.innerHTML = '';\n",
              "          dataTable['output_type'] = 'display_data';\n",
              "          await google.colab.output.renderOutput(dataTable, element);\n",
              "          const docLink = document.createElement('div');\n",
              "          docLink.innerHTML = docLinkHtml;\n",
              "          element.appendChild(docLink);\n",
              "        }\n",
              "      </script>\n",
              "    </div>\n",
              "  </div>\n",
              "  "
            ]
          },
          "metadata": {},
          "execution_count": 244
        }
      ]
    },
    {
      "cell_type": "markdown",
      "source": [
        "Donde vemos que la correlacion entre la edad y la renta es positiva y es \"Debil-Media\""
      ],
      "metadata": {
        "id": "_yIKd7mGZaqD"
      }
    },
    {
      "cell_type": "markdown",
      "metadata": {
        "id": "dHBpky16lKCt"
      },
      "source": [
        "## Ejercicio 4.2\n",
        "Para un aumento del uno por ciento en la edad, ¿cuánto aumenta la renta?\n",
        "Utilizando sklearn estime una regresión lineal y prediga los ingresos cuando la Edad es de 30 y 40 años."
      ]
    },
    {
      "cell_type": "code",
      "metadata": {
        "id": "PjSkhX8TlSxq"
      },
      "source": [
        "X=income[['Age']].values\n",
        "y=income[['Income']].values"
      ],
      "execution_count": 245,
      "outputs": []
    },
    {
      "cell_type": "code",
      "source": [
        "from sklearn.preprocessing import StandardScaler\n",
        "from sklearn.linear_model import LinearRegression\n",
        "from sklearn.linear_model import SGDRegressor\n",
        "\n",
        "linreg = LinearRegression(fit_intercept=True) # Con intercepto ya que no centralizamos los datos\n",
        "\n",
        "linreg.fit(X, y)"
      ],
      "metadata": {
        "colab": {
          "base_uri": "https://localhost:8080/"
        },
        "id": "o0lfqsF9uQeh",
        "outputId": "0e5033c8-2ca7-4665-f723-36043b8dfe93"
      },
      "execution_count": 246,
      "outputs": [
        {
          "output_type": "execute_result",
          "data": {
            "text/plain": [
              "LinearRegression()"
            ]
          },
          "metadata": {},
          "execution_count": 246
        }
      ]
    },
    {
      "cell_type": "code",
      "source": [
        "print(linreg.coef_ ,linreg.intercept_)"
      ],
      "metadata": {
        "colab": {
          "base_uri": "https://localhost:8080/"
        },
        "id": "75-U1nN9z25W",
        "outputId": "7b6a23ec-e506-4f71-b7d9-9801640d9ba8"
      },
      "execution_count": 247,
      "outputs": [
        {
          "output_type": "stream",
          "name": "stdout",
          "text": [
            "[[542.16765707]] [32538.08813087]\n"
          ]
        }
      ]
    },
    {
      "cell_type": "markdown",
      "source": [
        "Para un aumento de una unidad en la edad, la renta aumenta en **542.1676**"
      ],
      "metadata": {
        "id": "lLVUDq4UOE63"
      }
    },
    {
      "cell_type": "code",
      "source": [
        "x1=np.array(30) ;x2=np.array(40)\n",
        "\n",
        "x1=x1.reshape(-1,1) ; x2=x2.reshape(-1,1)\n",
        "x1"
      ],
      "metadata": {
        "colab": {
          "base_uri": "https://localhost:8080/"
        },
        "id": "5EC5MHPqJ9vn",
        "outputId": "052df793-d9d2-43c5-8b99-5c7f9577f997"
      },
      "execution_count": 248,
      "outputs": [
        {
          "output_type": "execute_result",
          "data": {
            "text/plain": [
              "array([[30]])"
            ]
          },
          "metadata": {},
          "execution_count": 248
        }
      ]
    },
    {
      "cell_type": "markdown",
      "source": [
        "\n",
        "**Prediccion ingresos de 30 años**"
      ],
      "metadata": {
        "id": "rQ9l1_GXOmvc"
      }
    },
    {
      "cell_type": "code",
      "source": [
        "linreg.predict(x1) # La prediccion de la renta de una persona de 30 años segun el modelo lineal es de 48803.117"
      ],
      "metadata": {
        "colab": {
          "base_uri": "https://localhost:8080/"
        },
        "id": "xb0G66XbJIOy",
        "outputId": "9c6b34ef-d8a3-4797-ea46-347d3478b257"
      },
      "execution_count": 249,
      "outputs": [
        {
          "output_type": "execute_result",
          "data": {
            "text/plain": [
              "array([[48803.11784304]])"
            ]
          },
          "metadata": {},
          "execution_count": 249
        }
      ]
    },
    {
      "cell_type": "markdown",
      "source": [
        "**Prediccion ingresos de 40 años**"
      ],
      "metadata": {
        "id": "NqzfKVIoO4ZK"
      }
    },
    {
      "cell_type": "code",
      "source": [
        "linreg.predict(x2) # La prediccion de la renta de una persona de 40 años segun el modelo lineal es de 54224.794"
      ],
      "metadata": {
        "colab": {
          "base_uri": "https://localhost:8080/"
        },
        "id": "Zw8jydnkOjef",
        "outputId": "27903423-6023-4df8-ebad-a264f64d3f3a"
      },
      "execution_count": 250,
      "outputs": [
        {
          "output_type": "execute_result",
          "data": {
            "text/plain": [
              "array([[54224.79441376]])"
            ]
          },
          "metadata": {},
          "execution_count": 250
        }
      ]
    },
    {
      "cell_type": "markdown",
      "source": [
        "El modelo queda escrito como $Y=32538.0881+542.167\\cdot{X_1}  +ϵ$"
      ],
      "metadata": {
        "id": "gfCin1SUjQO0"
      }
    },
    {
      "cell_type": "markdown",
      "metadata": {
        "id": "1lDYrtbArQm7"
      },
      "source": [
        "\n",
        "## Ejercicio 4.3\n",
        "\n",
        "Ejecute un modelo de regresión utilizando como características la Edad y la Edad$^2$ utilizando las ecuaciones OLS. Prediga de nuevo los ingresos cuando la Edad es de 30 y 40 años, y compare con el modelo anterior."
      ]
    },
    {
      "cell_type": "code",
      "metadata": {
        "collapsed": true,
        "id": "9oiQN-TArQm9",
        "colab": {
          "base_uri": "https://localhost:8080/",
          "height": 206
        },
        "outputId": "9f296444-e62e-470c-b645-e1e99644f74f"
      },
      "source": [
        "income['Age2'] = income['Age'] ** 2\n",
        "income.head()"
      ],
      "execution_count": 251,
      "outputs": [
        {
          "output_type": "execute_result",
          "data": {
            "text/plain": [
              "   Age         Workclass  fnlwgt  Education  Education-Num  \\\n",
              "0   39         State-gov   77516  Bachelors             13   \n",
              "1   50  Self-emp-not-inc   83311  Bachelors             13   \n",
              "2   38           Private  215646    HS-grad              9   \n",
              "3   53           Private  234721       11th              7   \n",
              "4   28           Private  338409  Bachelors             13   \n",
              "\n",
              "       Martial Status         Occupation   Relationship   Race     Sex  \\\n",
              "0       Never-married       Adm-clerical  Not-in-family  White    Male   \n",
              "1  Married-civ-spouse    Exec-managerial        Husband  White    Male   \n",
              "2            Divorced  Handlers-cleaners  Not-in-family  White    Male   \n",
              "3  Married-civ-spouse  Handlers-cleaners        Husband  Black    Male   \n",
              "4  Married-civ-spouse     Prof-specialty           Wife  Black  Female   \n",
              "\n",
              "   Capital Gain  Capital Loss  Hours per week        Country   Income  Age2  \n",
              "0          2174             0              40  United-States  51806.0  1521  \n",
              "1             0             0              13  United-States  68719.0  2500  \n",
              "2             0             0              40  United-States  51255.0  1444  \n",
              "3             0             0              40  United-States  47398.0  2809  \n",
              "4             0             0              40           Cuba  30493.0   784  "
            ],
            "text/html": [
              "\n",
              "  <div id=\"df-934db754-1b10-4a6d-a19a-78b7707aef74\">\n",
              "    <div class=\"colab-df-container\">\n",
              "      <div>\n",
              "<style scoped>\n",
              "    .dataframe tbody tr th:only-of-type {\n",
              "        vertical-align: middle;\n",
              "    }\n",
              "\n",
              "    .dataframe tbody tr th {\n",
              "        vertical-align: top;\n",
              "    }\n",
              "\n",
              "    .dataframe thead th {\n",
              "        text-align: right;\n",
              "    }\n",
              "</style>\n",
              "<table border=\"1\" class=\"dataframe\">\n",
              "  <thead>\n",
              "    <tr style=\"text-align: right;\">\n",
              "      <th></th>\n",
              "      <th>Age</th>\n",
              "      <th>Workclass</th>\n",
              "      <th>fnlwgt</th>\n",
              "      <th>Education</th>\n",
              "      <th>Education-Num</th>\n",
              "      <th>Martial Status</th>\n",
              "      <th>Occupation</th>\n",
              "      <th>Relationship</th>\n",
              "      <th>Race</th>\n",
              "      <th>Sex</th>\n",
              "      <th>Capital Gain</th>\n",
              "      <th>Capital Loss</th>\n",
              "      <th>Hours per week</th>\n",
              "      <th>Country</th>\n",
              "      <th>Income</th>\n",
              "      <th>Age2</th>\n",
              "    </tr>\n",
              "  </thead>\n",
              "  <tbody>\n",
              "    <tr>\n",
              "      <th>0</th>\n",
              "      <td>39</td>\n",
              "      <td>State-gov</td>\n",
              "      <td>77516</td>\n",
              "      <td>Bachelors</td>\n",
              "      <td>13</td>\n",
              "      <td>Never-married</td>\n",
              "      <td>Adm-clerical</td>\n",
              "      <td>Not-in-family</td>\n",
              "      <td>White</td>\n",
              "      <td>Male</td>\n",
              "      <td>2174</td>\n",
              "      <td>0</td>\n",
              "      <td>40</td>\n",
              "      <td>United-States</td>\n",
              "      <td>51806.0</td>\n",
              "      <td>1521</td>\n",
              "    </tr>\n",
              "    <tr>\n",
              "      <th>1</th>\n",
              "      <td>50</td>\n",
              "      <td>Self-emp-not-inc</td>\n",
              "      <td>83311</td>\n",
              "      <td>Bachelors</td>\n",
              "      <td>13</td>\n",
              "      <td>Married-civ-spouse</td>\n",
              "      <td>Exec-managerial</td>\n",
              "      <td>Husband</td>\n",
              "      <td>White</td>\n",
              "      <td>Male</td>\n",
              "      <td>0</td>\n",
              "      <td>0</td>\n",
              "      <td>13</td>\n",
              "      <td>United-States</td>\n",
              "      <td>68719.0</td>\n",
              "      <td>2500</td>\n",
              "    </tr>\n",
              "    <tr>\n",
              "      <th>2</th>\n",
              "      <td>38</td>\n",
              "      <td>Private</td>\n",
              "      <td>215646</td>\n",
              "      <td>HS-grad</td>\n",
              "      <td>9</td>\n",
              "      <td>Divorced</td>\n",
              "      <td>Handlers-cleaners</td>\n",
              "      <td>Not-in-family</td>\n",
              "      <td>White</td>\n",
              "      <td>Male</td>\n",
              "      <td>0</td>\n",
              "      <td>0</td>\n",
              "      <td>40</td>\n",
              "      <td>United-States</td>\n",
              "      <td>51255.0</td>\n",
              "      <td>1444</td>\n",
              "    </tr>\n",
              "    <tr>\n",
              "      <th>3</th>\n",
              "      <td>53</td>\n",
              "      <td>Private</td>\n",
              "      <td>234721</td>\n",
              "      <td>11th</td>\n",
              "      <td>7</td>\n",
              "      <td>Married-civ-spouse</td>\n",
              "      <td>Handlers-cleaners</td>\n",
              "      <td>Husband</td>\n",
              "      <td>Black</td>\n",
              "      <td>Male</td>\n",
              "      <td>0</td>\n",
              "      <td>0</td>\n",
              "      <td>40</td>\n",
              "      <td>United-States</td>\n",
              "      <td>47398.0</td>\n",
              "      <td>2809</td>\n",
              "    </tr>\n",
              "    <tr>\n",
              "      <th>4</th>\n",
              "      <td>28</td>\n",
              "      <td>Private</td>\n",
              "      <td>338409</td>\n",
              "      <td>Bachelors</td>\n",
              "      <td>13</td>\n",
              "      <td>Married-civ-spouse</td>\n",
              "      <td>Prof-specialty</td>\n",
              "      <td>Wife</td>\n",
              "      <td>Black</td>\n",
              "      <td>Female</td>\n",
              "      <td>0</td>\n",
              "      <td>0</td>\n",
              "      <td>40</td>\n",
              "      <td>Cuba</td>\n",
              "      <td>30493.0</td>\n",
              "      <td>784</td>\n",
              "    </tr>\n",
              "  </tbody>\n",
              "</table>\n",
              "</div>\n",
              "      <button class=\"colab-df-convert\" onclick=\"convertToInteractive('df-934db754-1b10-4a6d-a19a-78b7707aef74')\"\n",
              "              title=\"Convert this dataframe to an interactive table.\"\n",
              "              style=\"display:none;\">\n",
              "        \n",
              "  <svg xmlns=\"http://www.w3.org/2000/svg\" height=\"24px\"viewBox=\"0 0 24 24\"\n",
              "       width=\"24px\">\n",
              "    <path d=\"M0 0h24v24H0V0z\" fill=\"none\"/>\n",
              "    <path d=\"M18.56 5.44l.94 2.06.94-2.06 2.06-.94-2.06-.94-.94-2.06-.94 2.06-2.06.94zm-11 1L8.5 8.5l.94-2.06 2.06-.94-2.06-.94L8.5 2.5l-.94 2.06-2.06.94zm10 10l.94 2.06.94-2.06 2.06-.94-2.06-.94-.94-2.06-.94 2.06-2.06.94z\"/><path d=\"M17.41 7.96l-1.37-1.37c-.4-.4-.92-.59-1.43-.59-.52 0-1.04.2-1.43.59L10.3 9.45l-7.72 7.72c-.78.78-.78 2.05 0 2.83L4 21.41c.39.39.9.59 1.41.59.51 0 1.02-.2 1.41-.59l7.78-7.78 2.81-2.81c.8-.78.8-2.07 0-2.86zM5.41 20L4 18.59l7.72-7.72 1.47 1.35L5.41 20z\"/>\n",
              "  </svg>\n",
              "      </button>\n",
              "      \n",
              "  <style>\n",
              "    .colab-df-container {\n",
              "      display:flex;\n",
              "      flex-wrap:wrap;\n",
              "      gap: 12px;\n",
              "    }\n",
              "\n",
              "    .colab-df-convert {\n",
              "      background-color: #E8F0FE;\n",
              "      border: none;\n",
              "      border-radius: 50%;\n",
              "      cursor: pointer;\n",
              "      display: none;\n",
              "      fill: #1967D2;\n",
              "      height: 32px;\n",
              "      padding: 0 0 0 0;\n",
              "      width: 32px;\n",
              "    }\n",
              "\n",
              "    .colab-df-convert:hover {\n",
              "      background-color: #E2EBFA;\n",
              "      box-shadow: 0px 1px 2px rgba(60, 64, 67, 0.3), 0px 1px 3px 1px rgba(60, 64, 67, 0.15);\n",
              "      fill: #174EA6;\n",
              "    }\n",
              "\n",
              "    [theme=dark] .colab-df-convert {\n",
              "      background-color: #3B4455;\n",
              "      fill: #D2E3FC;\n",
              "    }\n",
              "\n",
              "    [theme=dark] .colab-df-convert:hover {\n",
              "      background-color: #434B5C;\n",
              "      box-shadow: 0px 1px 3px 1px rgba(0, 0, 0, 0.15);\n",
              "      filter: drop-shadow(0px 1px 2px rgba(0, 0, 0, 0.3));\n",
              "      fill: #FFFFFF;\n",
              "    }\n",
              "  </style>\n",
              "\n",
              "      <script>\n",
              "        const buttonEl =\n",
              "          document.querySelector('#df-934db754-1b10-4a6d-a19a-78b7707aef74 button.colab-df-convert');\n",
              "        buttonEl.style.display =\n",
              "          google.colab.kernel.accessAllowed ? 'block' : 'none';\n",
              "\n",
              "        async function convertToInteractive(key) {\n",
              "          const element = document.querySelector('#df-934db754-1b10-4a6d-a19a-78b7707aef74');\n",
              "          const dataTable =\n",
              "            await google.colab.kernel.invokeFunction('convertToInteractive',\n",
              "                                                     [key], {});\n",
              "          if (!dataTable) return;\n",
              "\n",
              "          const docLinkHtml = 'Like what you see? Visit the ' +\n",
              "            '<a target=\"_blank\" href=https://colab.research.google.com/notebooks/data_table.ipynb>data table notebook</a>'\n",
              "            + ' to learn more about interactive tables.';\n",
              "          element.innerHTML = '';\n",
              "          dataTable['output_type'] = 'display_data';\n",
              "          await google.colab.output.renderOutput(dataTable, element);\n",
              "          const docLink = document.createElement('div');\n",
              "          docLink.innerHTML = docLinkHtml;\n",
              "          element.appendChild(docLink);\n",
              "        }\n",
              "      </script>\n",
              "    </div>\n",
              "  </div>\n",
              "  "
            ]
          },
          "metadata": {},
          "execution_count": 251
        }
      ]
    },
    {
      "cell_type": "code",
      "source": [
        "X=income[['Age','Age2']].values\n",
        "X"
      ],
      "metadata": {
        "colab": {
          "base_uri": "https://localhost:8080/"
        },
        "id": "RfOt3SClRIdc",
        "outputId": "bb9d0846-340a-4201-dcf9-c66e9b8b854f"
      },
      "execution_count": 252,
      "outputs": [
        {
          "output_type": "execute_result",
          "data": {
            "text/plain": [
              "array([[  39, 1521],\n",
              "       [  50, 2500],\n",
              "       [  38, 1444],\n",
              "       ...,\n",
              "       [  58, 3364],\n",
              "       [  22,  484],\n",
              "       [  52, 2704]])"
            ]
          },
          "metadata": {},
          "execution_count": 252
        }
      ]
    },
    {
      "cell_type": "code",
      "source": [
        "#from sklearn.preprocessing import StandardScaler\n",
        "#ss = StandardScaler(with_mean=True, with_std=True) \n",
        "#ss.fit(X.astype(np.float))\n",
        "#X = ss.transform(X.astype(np.float))\n",
        "#ss.mean_, ss.scale_"
      ],
      "metadata": {
        "id": "eJx5eJVrRXrx"
      },
      "execution_count": 253,
      "outputs": []
    },
    {
      "cell_type": "code",
      "source": [
        "#y_mean, y_std = y.mean(), y.std()\n",
        "#y = (y - y_mean)/ y_std"
      ],
      "metadata": {
        "id": "ih16nfEmRhiH"
      },
      "execution_count": 254,
      "outputs": []
    },
    {
      "cell_type": "code",
      "source": [
        "x1 = np.array([30., 30.**2]) ; x2 = np.array([40., 40.**2])\n",
        "\n",
        "# scale\n",
        "#x_scaled = ss.transform(x.reshape(1, -1)) # La media y desviacion que usaba antes, para regresar a los datos originales y predecir\n",
        "#x_ = x_scaled\n",
        "#x_\n",
        "x1_scaled=x1.reshape(1,-1) ; x2_scaled=x2.reshape(1,-1)\n",
        "x1_=x1_scaled ; x2_ = x2_scaled\n",
        "x1_ ; x2_"
      ],
      "metadata": {
        "colab": {
          "base_uri": "https://localhost:8080/"
        },
        "id": "3cSiLDNDR6jK",
        "outputId": "43c18df7-5357-4120-b42d-b48cd9568dc8"
      },
      "execution_count": 255,
      "outputs": [
        {
          "output_type": "execute_result",
          "data": {
            "text/plain": [
              "array([[  40., 1600.]])"
            ]
          },
          "metadata": {},
          "execution_count": 255
        }
      ]
    },
    {
      "cell_type": "code",
      "source": [
        "linreg2 = LinearRegression(fit_intercept=True) # Con intercepto ya que no centralizamos los datos\n",
        "\n",
        "linreg2.fit(X, y)"
      ],
      "metadata": {
        "colab": {
          "base_uri": "https://localhost:8080/"
        },
        "id": "YOcRIWVlSb6i",
        "outputId": "f66813a0-360e-4b1c-f19f-1f7a01d4e3e2"
      },
      "execution_count": 256,
      "outputs": [
        {
          "output_type": "execute_result",
          "data": {
            "text/plain": [
              "LinearRegression()"
            ]
          },
          "metadata": {},
          "execution_count": 256
        }
      ]
    },
    {
      "cell_type": "code",
      "source": [
        "linreg2.predict(x1_)  # La prediccion de la renta de una persona de 30 años segun el modelo 2 es de 50238.96"
      ],
      "metadata": {
        "colab": {
          "base_uri": "https://localhost:8080/"
        },
        "id": "OAT7a4ycSzS9",
        "outputId": "76a60b7d-804a-4979-b761-87fd20e84e55"
      },
      "execution_count": 257,
      "outputs": [
        {
          "output_type": "execute_result",
          "data": {
            "text/plain": [
              "array([[50238.96390027]])"
            ]
          },
          "metadata": {},
          "execution_count": 257
        }
      ]
    },
    {
      "cell_type": "code",
      "source": [
        "linreg2.predict(x2_) # La prediccion de la renta de una persona de 40 años segun el modelo 2 es de 60176.27"
      ],
      "metadata": {
        "colab": {
          "base_uri": "https://localhost:8080/"
        },
        "id": "aIuWyL0BVwks",
        "outputId": "498abfe1-283a-45ca-93df-765c547d535a"
      },
      "execution_count": 258,
      "outputs": [
        {
          "output_type": "execute_result",
          "data": {
            "text/plain": [
              "array([[60176.27802692]])"
            ]
          },
          "metadata": {},
          "execution_count": 258
        }
      ]
    },
    {
      "cell_type": "markdown",
      "source": [
        "Utilizando la edad y la edad al cuadrado como variables regresoras, Se observa que las predicciones para el ingreso para las mismas edades son mayores en este modelo en comparacion al primero"
      ],
      "metadata": {
        "id": "_29I-qhJV66a"
      }
    },
    {
      "cell_type": "markdown",
      "source": [
        "El modelo 2 queda escrito como $Y=-16225.0709+3131.77014151\\cdot{X_1}  -30.54341041\\cdot{X_2}+ϵ$\n",
        "* Siendo $X_1 = $ Edad y $X_2 = $ Edad^2"
      ],
      "metadata": {
        "id": "pDmhPZmpin8s"
      }
    },
    {
      "cell_type": "code",
      "source": [
        "print(linreg2.coef_ ,linreg2.intercept_)\n",
        "(3131.770-542.167)/542.167"
      ],
      "metadata": {
        "colab": {
          "base_uri": "https://localhost:8080/"
        },
        "id": "6B0agUQDihsF",
        "outputId": "83d8b17f-1492-4edd-9941-2c39d789be92"
      },
      "execution_count": 259,
      "outputs": [
        {
          "output_type": "stream",
          "name": "stdout",
          "text": [
            "[[3131.77014151  -30.54341041]] [-16225.07097407]\n"
          ]
        },
        {
          "output_type": "execute_result",
          "data": {
            "text/plain": [
              "4.77639362041585"
            ]
          },
          "metadata": {},
          "execution_count": 259
        }
      ]
    },
    {
      "cell_type": "markdown",
      "source": [
        "En comparacion al modelo anterior, se ven las siguientes diferencias\n",
        "* El intercepto $\\beta_0$ es negativo en el modelo 2, en el primero es positivo\n",
        "* El $\\beta_1$ del modelo es casi 5 veces mayor en el modelo 2 con respecto al modelo 1, lo que significa que variaciones de la edad en el modelo dos tienen mas impacto en la renta que en el modelo 1\n"
      ],
      "metadata": {
        "id": "rxtTytZmjl1n"
      }
    },
    {
      "cell_type": "markdown",
      "metadata": {
        "id": "tqH5f5bbrQm-"
      },
      "source": [
        "## Ejercicio 4.4\n",
        "Estime una regresión utilizando más características, diga cuáles y por qué las usó. Prediga de nuevo los ingresos cuando la Edad es de 30 y 40 años, y compare con el modelo anterior.\n"
      ]
    },
    {
      "cell_type": "code",
      "metadata": {
        "collapsed": true,
        "id": "lHhA4XnprQm_",
        "colab": {
          "base_uri": "https://localhost:8080/",
          "height": 300
        },
        "outputId": "b9af9e3a-9e83-4621-953c-e2862f9536b0"
      },
      "source": [
        "income.describe()"
      ],
      "execution_count": 260,
      "outputs": [
        {
          "output_type": "execute_result",
          "data": {
            "text/plain": [
              "                Age        fnlwgt  Education-Num  Capital Gain  Capital Loss  \\\n",
              "count  32561.000000  3.256100e+04   32561.000000  32561.000000  32561.000000   \n",
              "mean      38.581647  1.897784e+05      10.080679   1077.648844     87.303830   \n",
              "std       13.640433  1.055500e+05       2.572720   7385.292085    402.960219   \n",
              "min       17.000000  1.228500e+04       1.000000      0.000000      0.000000   \n",
              "25%       28.000000  1.178270e+05       9.000000      0.000000      0.000000   \n",
              "50%       37.000000  1.783560e+05      10.000000      0.000000      0.000000   \n",
              "75%       48.000000  2.370510e+05      12.000000      0.000000      0.000000   \n",
              "max       90.000000  1.484705e+06      16.000000  99999.000000   4356.000000   \n",
              "\n",
              "       Hours per week         Income          Age2  \n",
              "count    32561.000000   32561.000000  32561.000000  \n",
              "mean        40.437456   53455.809158   1674.599152  \n",
              "std         12.347429   25465.530461   1179.047521  \n",
              "min          1.000000   17636.000000    289.000000  \n",
              "25%         40.000000   35503.000000    784.000000  \n",
              "50%         40.000000   44978.000000   1369.000000  \n",
              "75%         45.000000   63548.000000   2304.000000  \n",
              "max         99.000000  136063.000000   8100.000000  "
            ],
            "text/html": [
              "\n",
              "  <div id=\"df-866892d0-b732-471d-9d83-b7b21ae7ed47\">\n",
              "    <div class=\"colab-df-container\">\n",
              "      <div>\n",
              "<style scoped>\n",
              "    .dataframe tbody tr th:only-of-type {\n",
              "        vertical-align: middle;\n",
              "    }\n",
              "\n",
              "    .dataframe tbody tr th {\n",
              "        vertical-align: top;\n",
              "    }\n",
              "\n",
              "    .dataframe thead th {\n",
              "        text-align: right;\n",
              "    }\n",
              "</style>\n",
              "<table border=\"1\" class=\"dataframe\">\n",
              "  <thead>\n",
              "    <tr style=\"text-align: right;\">\n",
              "      <th></th>\n",
              "      <th>Age</th>\n",
              "      <th>fnlwgt</th>\n",
              "      <th>Education-Num</th>\n",
              "      <th>Capital Gain</th>\n",
              "      <th>Capital Loss</th>\n",
              "      <th>Hours per week</th>\n",
              "      <th>Income</th>\n",
              "      <th>Age2</th>\n",
              "    </tr>\n",
              "  </thead>\n",
              "  <tbody>\n",
              "    <tr>\n",
              "      <th>count</th>\n",
              "      <td>32561.000000</td>\n",
              "      <td>3.256100e+04</td>\n",
              "      <td>32561.000000</td>\n",
              "      <td>32561.000000</td>\n",
              "      <td>32561.000000</td>\n",
              "      <td>32561.000000</td>\n",
              "      <td>32561.000000</td>\n",
              "      <td>32561.000000</td>\n",
              "    </tr>\n",
              "    <tr>\n",
              "      <th>mean</th>\n",
              "      <td>38.581647</td>\n",
              "      <td>1.897784e+05</td>\n",
              "      <td>10.080679</td>\n",
              "      <td>1077.648844</td>\n",
              "      <td>87.303830</td>\n",
              "      <td>40.437456</td>\n",
              "      <td>53455.809158</td>\n",
              "      <td>1674.599152</td>\n",
              "    </tr>\n",
              "    <tr>\n",
              "      <th>std</th>\n",
              "      <td>13.640433</td>\n",
              "      <td>1.055500e+05</td>\n",
              "      <td>2.572720</td>\n",
              "      <td>7385.292085</td>\n",
              "      <td>402.960219</td>\n",
              "      <td>12.347429</td>\n",
              "      <td>25465.530461</td>\n",
              "      <td>1179.047521</td>\n",
              "    </tr>\n",
              "    <tr>\n",
              "      <th>min</th>\n",
              "      <td>17.000000</td>\n",
              "      <td>1.228500e+04</td>\n",
              "      <td>1.000000</td>\n",
              "      <td>0.000000</td>\n",
              "      <td>0.000000</td>\n",
              "      <td>1.000000</td>\n",
              "      <td>17636.000000</td>\n",
              "      <td>289.000000</td>\n",
              "    </tr>\n",
              "    <tr>\n",
              "      <th>25%</th>\n",
              "      <td>28.000000</td>\n",
              "      <td>1.178270e+05</td>\n",
              "      <td>9.000000</td>\n",
              "      <td>0.000000</td>\n",
              "      <td>0.000000</td>\n",
              "      <td>40.000000</td>\n",
              "      <td>35503.000000</td>\n",
              "      <td>784.000000</td>\n",
              "    </tr>\n",
              "    <tr>\n",
              "      <th>50%</th>\n",
              "      <td>37.000000</td>\n",
              "      <td>1.783560e+05</td>\n",
              "      <td>10.000000</td>\n",
              "      <td>0.000000</td>\n",
              "      <td>0.000000</td>\n",
              "      <td>40.000000</td>\n",
              "      <td>44978.000000</td>\n",
              "      <td>1369.000000</td>\n",
              "    </tr>\n",
              "    <tr>\n",
              "      <th>75%</th>\n",
              "      <td>48.000000</td>\n",
              "      <td>2.370510e+05</td>\n",
              "      <td>12.000000</td>\n",
              "      <td>0.000000</td>\n",
              "      <td>0.000000</td>\n",
              "      <td>45.000000</td>\n",
              "      <td>63548.000000</td>\n",
              "      <td>2304.000000</td>\n",
              "    </tr>\n",
              "    <tr>\n",
              "      <th>max</th>\n",
              "      <td>90.000000</td>\n",
              "      <td>1.484705e+06</td>\n",
              "      <td>16.000000</td>\n",
              "      <td>99999.000000</td>\n",
              "      <td>4356.000000</td>\n",
              "      <td>99.000000</td>\n",
              "      <td>136063.000000</td>\n",
              "      <td>8100.000000</td>\n",
              "    </tr>\n",
              "  </tbody>\n",
              "</table>\n",
              "</div>\n",
              "      <button class=\"colab-df-convert\" onclick=\"convertToInteractive('df-866892d0-b732-471d-9d83-b7b21ae7ed47')\"\n",
              "              title=\"Convert this dataframe to an interactive table.\"\n",
              "              style=\"display:none;\">\n",
              "        \n",
              "  <svg xmlns=\"http://www.w3.org/2000/svg\" height=\"24px\"viewBox=\"0 0 24 24\"\n",
              "       width=\"24px\">\n",
              "    <path d=\"M0 0h24v24H0V0z\" fill=\"none\"/>\n",
              "    <path d=\"M18.56 5.44l.94 2.06.94-2.06 2.06-.94-2.06-.94-.94-2.06-.94 2.06-2.06.94zm-11 1L8.5 8.5l.94-2.06 2.06-.94-2.06-.94L8.5 2.5l-.94 2.06-2.06.94zm10 10l.94 2.06.94-2.06 2.06-.94-2.06-.94-.94-2.06-.94 2.06-2.06.94z\"/><path d=\"M17.41 7.96l-1.37-1.37c-.4-.4-.92-.59-1.43-.59-.52 0-1.04.2-1.43.59L10.3 9.45l-7.72 7.72c-.78.78-.78 2.05 0 2.83L4 21.41c.39.39.9.59 1.41.59.51 0 1.02-.2 1.41-.59l7.78-7.78 2.81-2.81c.8-.78.8-2.07 0-2.86zM5.41 20L4 18.59l7.72-7.72 1.47 1.35L5.41 20z\"/>\n",
              "  </svg>\n",
              "      </button>\n",
              "      \n",
              "  <style>\n",
              "    .colab-df-container {\n",
              "      display:flex;\n",
              "      flex-wrap:wrap;\n",
              "      gap: 12px;\n",
              "    }\n",
              "\n",
              "    .colab-df-convert {\n",
              "      background-color: #E8F0FE;\n",
              "      border: none;\n",
              "      border-radius: 50%;\n",
              "      cursor: pointer;\n",
              "      display: none;\n",
              "      fill: #1967D2;\n",
              "      height: 32px;\n",
              "      padding: 0 0 0 0;\n",
              "      width: 32px;\n",
              "    }\n",
              "\n",
              "    .colab-df-convert:hover {\n",
              "      background-color: #E2EBFA;\n",
              "      box-shadow: 0px 1px 2px rgba(60, 64, 67, 0.3), 0px 1px 3px 1px rgba(60, 64, 67, 0.15);\n",
              "      fill: #174EA6;\n",
              "    }\n",
              "\n",
              "    [theme=dark] .colab-df-convert {\n",
              "      background-color: #3B4455;\n",
              "      fill: #D2E3FC;\n",
              "    }\n",
              "\n",
              "    [theme=dark] .colab-df-convert:hover {\n",
              "      background-color: #434B5C;\n",
              "      box-shadow: 0px 1px 3px 1px rgba(0, 0, 0, 0.15);\n",
              "      filter: drop-shadow(0px 1px 2px rgba(0, 0, 0, 0.3));\n",
              "      fill: #FFFFFF;\n",
              "    }\n",
              "  </style>\n",
              "\n",
              "      <script>\n",
              "        const buttonEl =\n",
              "          document.querySelector('#df-866892d0-b732-471d-9d83-b7b21ae7ed47 button.colab-df-convert');\n",
              "        buttonEl.style.display =\n",
              "          google.colab.kernel.accessAllowed ? 'block' : 'none';\n",
              "\n",
              "        async function convertToInteractive(key) {\n",
              "          const element = document.querySelector('#df-866892d0-b732-471d-9d83-b7b21ae7ed47');\n",
              "          const dataTable =\n",
              "            await google.colab.kernel.invokeFunction('convertToInteractive',\n",
              "                                                     [key], {});\n",
              "          if (!dataTable) return;\n",
              "\n",
              "          const docLinkHtml = 'Like what you see? Visit the ' +\n",
              "            '<a target=\"_blank\" href=https://colab.research.google.com/notebooks/data_table.ipynb>data table notebook</a>'\n",
              "            + ' to learn more about interactive tables.';\n",
              "          element.innerHTML = '';\n",
              "          dataTable['output_type'] = 'display_data';\n",
              "          await google.colab.output.renderOutput(dataTable, element);\n",
              "          const docLink = document.createElement('div');\n",
              "          docLink.innerHTML = docLinkHtml;\n",
              "          element.appendChild(docLink);\n",
              "        }\n",
              "      </script>\n",
              "    </div>\n",
              "  </div>\n",
              "  "
            ]
          },
          "metadata": {},
          "execution_count": 260
        }
      ]
    },
    {
      "cell_type": "markdown",
      "source": [
        "Viendo un resumen de las variables cuantitativas (Y education num que es dummy) se decide tomar las horas por semana solamente y no fnlwgt, hicimos una pequeña busqueda de que es esa variable y no encontramos que significa, por lo que mejor no emplearla"
      ],
      "metadata": {
        "id": "SveP7tAFhFVZ"
      }
    },
    {
      "cell_type": "code",
      "source": [
        "Relationship=pd.get_dummies(income['Relationship'] , drop_first=True) # Posibilidad de usar la relacion en el modelo\n",
        "Relationship\n",
        "Sex=pd.get_dummies(income['Sex'] , drop_first=True) # Sexo como dummy si la uso en el modelo (1 hombre, 0 mujer)\n",
        "income2=pd.concat([income,Relationship,Sex], axis = 1)\n",
        "income2.head()"
      ],
      "metadata": {
        "colab": {
          "base_uri": "https://localhost:8080/",
          "height": 384
        },
        "id": "lIZ3IhA9YMfb",
        "outputId": "5cdfc202-0036-4711-c830-62907fe5c9af"
      },
      "execution_count": 261,
      "outputs": [
        {
          "output_type": "execute_result",
          "data": {
            "text/plain": [
              "   Age         Workclass  fnlwgt  Education  Education-Num  \\\n",
              "0   39         State-gov   77516  Bachelors             13   \n",
              "1   50  Self-emp-not-inc   83311  Bachelors             13   \n",
              "2   38           Private  215646    HS-grad              9   \n",
              "3   53           Private  234721       11th              7   \n",
              "4   28           Private  338409  Bachelors             13   \n",
              "\n",
              "       Martial Status         Occupation   Relationship   Race     Sex  ...  \\\n",
              "0       Never-married       Adm-clerical  Not-in-family  White    Male  ...   \n",
              "1  Married-civ-spouse    Exec-managerial        Husband  White    Male  ...   \n",
              "2            Divorced  Handlers-cleaners  Not-in-family  White    Male  ...   \n",
              "3  Married-civ-spouse  Handlers-cleaners        Husband  Black    Male  ...   \n",
              "4  Married-civ-spouse     Prof-specialty           Wife  Black  Female  ...   \n",
              "\n",
              "   Hours per week        Country   Income  Age2  Not-in-family  \\\n",
              "0              40  United-States  51806.0  1521              1   \n",
              "1              13  United-States  68719.0  2500              0   \n",
              "2              40  United-States  51255.0  1444              1   \n",
              "3              40  United-States  47398.0  2809              0   \n",
              "4              40           Cuba  30493.0   784              0   \n",
              "\n",
              "   Other-relative  Own-child  Unmarried  Wife  Male  \n",
              "0               0          0          0     0     1  \n",
              "1               0          0          0     0     1  \n",
              "2               0          0          0     0     1  \n",
              "3               0          0          0     0     1  \n",
              "4               0          0          0     1     0  \n",
              "\n",
              "[5 rows x 22 columns]"
            ],
            "text/html": [
              "\n",
              "  <div id=\"df-9c677c5f-4457-4a30-ab9b-4be90c3275aa\">\n",
              "    <div class=\"colab-df-container\">\n",
              "      <div>\n",
              "<style scoped>\n",
              "    .dataframe tbody tr th:only-of-type {\n",
              "        vertical-align: middle;\n",
              "    }\n",
              "\n",
              "    .dataframe tbody tr th {\n",
              "        vertical-align: top;\n",
              "    }\n",
              "\n",
              "    .dataframe thead th {\n",
              "        text-align: right;\n",
              "    }\n",
              "</style>\n",
              "<table border=\"1\" class=\"dataframe\">\n",
              "  <thead>\n",
              "    <tr style=\"text-align: right;\">\n",
              "      <th></th>\n",
              "      <th>Age</th>\n",
              "      <th>Workclass</th>\n",
              "      <th>fnlwgt</th>\n",
              "      <th>Education</th>\n",
              "      <th>Education-Num</th>\n",
              "      <th>Martial Status</th>\n",
              "      <th>Occupation</th>\n",
              "      <th>Relationship</th>\n",
              "      <th>Race</th>\n",
              "      <th>Sex</th>\n",
              "      <th>...</th>\n",
              "      <th>Hours per week</th>\n",
              "      <th>Country</th>\n",
              "      <th>Income</th>\n",
              "      <th>Age2</th>\n",
              "      <th>Not-in-family</th>\n",
              "      <th>Other-relative</th>\n",
              "      <th>Own-child</th>\n",
              "      <th>Unmarried</th>\n",
              "      <th>Wife</th>\n",
              "      <th>Male</th>\n",
              "    </tr>\n",
              "  </thead>\n",
              "  <tbody>\n",
              "    <tr>\n",
              "      <th>0</th>\n",
              "      <td>39</td>\n",
              "      <td>State-gov</td>\n",
              "      <td>77516</td>\n",
              "      <td>Bachelors</td>\n",
              "      <td>13</td>\n",
              "      <td>Never-married</td>\n",
              "      <td>Adm-clerical</td>\n",
              "      <td>Not-in-family</td>\n",
              "      <td>White</td>\n",
              "      <td>Male</td>\n",
              "      <td>...</td>\n",
              "      <td>40</td>\n",
              "      <td>United-States</td>\n",
              "      <td>51806.0</td>\n",
              "      <td>1521</td>\n",
              "      <td>1</td>\n",
              "      <td>0</td>\n",
              "      <td>0</td>\n",
              "      <td>0</td>\n",
              "      <td>0</td>\n",
              "      <td>1</td>\n",
              "    </tr>\n",
              "    <tr>\n",
              "      <th>1</th>\n",
              "      <td>50</td>\n",
              "      <td>Self-emp-not-inc</td>\n",
              "      <td>83311</td>\n",
              "      <td>Bachelors</td>\n",
              "      <td>13</td>\n",
              "      <td>Married-civ-spouse</td>\n",
              "      <td>Exec-managerial</td>\n",
              "      <td>Husband</td>\n",
              "      <td>White</td>\n",
              "      <td>Male</td>\n",
              "      <td>...</td>\n",
              "      <td>13</td>\n",
              "      <td>United-States</td>\n",
              "      <td>68719.0</td>\n",
              "      <td>2500</td>\n",
              "      <td>0</td>\n",
              "      <td>0</td>\n",
              "      <td>0</td>\n",
              "      <td>0</td>\n",
              "      <td>0</td>\n",
              "      <td>1</td>\n",
              "    </tr>\n",
              "    <tr>\n",
              "      <th>2</th>\n",
              "      <td>38</td>\n",
              "      <td>Private</td>\n",
              "      <td>215646</td>\n",
              "      <td>HS-grad</td>\n",
              "      <td>9</td>\n",
              "      <td>Divorced</td>\n",
              "      <td>Handlers-cleaners</td>\n",
              "      <td>Not-in-family</td>\n",
              "      <td>White</td>\n",
              "      <td>Male</td>\n",
              "      <td>...</td>\n",
              "      <td>40</td>\n",
              "      <td>United-States</td>\n",
              "      <td>51255.0</td>\n",
              "      <td>1444</td>\n",
              "      <td>1</td>\n",
              "      <td>0</td>\n",
              "      <td>0</td>\n",
              "      <td>0</td>\n",
              "      <td>0</td>\n",
              "      <td>1</td>\n",
              "    </tr>\n",
              "    <tr>\n",
              "      <th>3</th>\n",
              "      <td>53</td>\n",
              "      <td>Private</td>\n",
              "      <td>234721</td>\n",
              "      <td>11th</td>\n",
              "      <td>7</td>\n",
              "      <td>Married-civ-spouse</td>\n",
              "      <td>Handlers-cleaners</td>\n",
              "      <td>Husband</td>\n",
              "      <td>Black</td>\n",
              "      <td>Male</td>\n",
              "      <td>...</td>\n",
              "      <td>40</td>\n",
              "      <td>United-States</td>\n",
              "      <td>47398.0</td>\n",
              "      <td>2809</td>\n",
              "      <td>0</td>\n",
              "      <td>0</td>\n",
              "      <td>0</td>\n",
              "      <td>0</td>\n",
              "      <td>0</td>\n",
              "      <td>1</td>\n",
              "    </tr>\n",
              "    <tr>\n",
              "      <th>4</th>\n",
              "      <td>28</td>\n",
              "      <td>Private</td>\n",
              "      <td>338409</td>\n",
              "      <td>Bachelors</td>\n",
              "      <td>13</td>\n",
              "      <td>Married-civ-spouse</td>\n",
              "      <td>Prof-specialty</td>\n",
              "      <td>Wife</td>\n",
              "      <td>Black</td>\n",
              "      <td>Female</td>\n",
              "      <td>...</td>\n",
              "      <td>40</td>\n",
              "      <td>Cuba</td>\n",
              "      <td>30493.0</td>\n",
              "      <td>784</td>\n",
              "      <td>0</td>\n",
              "      <td>0</td>\n",
              "      <td>0</td>\n",
              "      <td>0</td>\n",
              "      <td>1</td>\n",
              "      <td>0</td>\n",
              "    </tr>\n",
              "  </tbody>\n",
              "</table>\n",
              "<p>5 rows × 22 columns</p>\n",
              "</div>\n",
              "      <button class=\"colab-df-convert\" onclick=\"convertToInteractive('df-9c677c5f-4457-4a30-ab9b-4be90c3275aa')\"\n",
              "              title=\"Convert this dataframe to an interactive table.\"\n",
              "              style=\"display:none;\">\n",
              "        \n",
              "  <svg xmlns=\"http://www.w3.org/2000/svg\" height=\"24px\"viewBox=\"0 0 24 24\"\n",
              "       width=\"24px\">\n",
              "    <path d=\"M0 0h24v24H0V0z\" fill=\"none\"/>\n",
              "    <path d=\"M18.56 5.44l.94 2.06.94-2.06 2.06-.94-2.06-.94-.94-2.06-.94 2.06-2.06.94zm-11 1L8.5 8.5l.94-2.06 2.06-.94-2.06-.94L8.5 2.5l-.94 2.06-2.06.94zm10 10l.94 2.06.94-2.06 2.06-.94-2.06-.94-.94-2.06-.94 2.06-2.06.94z\"/><path d=\"M17.41 7.96l-1.37-1.37c-.4-.4-.92-.59-1.43-.59-.52 0-1.04.2-1.43.59L10.3 9.45l-7.72 7.72c-.78.78-.78 2.05 0 2.83L4 21.41c.39.39.9.59 1.41.59.51 0 1.02-.2 1.41-.59l7.78-7.78 2.81-2.81c.8-.78.8-2.07 0-2.86zM5.41 20L4 18.59l7.72-7.72 1.47 1.35L5.41 20z\"/>\n",
              "  </svg>\n",
              "      </button>\n",
              "      \n",
              "  <style>\n",
              "    .colab-df-container {\n",
              "      display:flex;\n",
              "      flex-wrap:wrap;\n",
              "      gap: 12px;\n",
              "    }\n",
              "\n",
              "    .colab-df-convert {\n",
              "      background-color: #E8F0FE;\n",
              "      border: none;\n",
              "      border-radius: 50%;\n",
              "      cursor: pointer;\n",
              "      display: none;\n",
              "      fill: #1967D2;\n",
              "      height: 32px;\n",
              "      padding: 0 0 0 0;\n",
              "      width: 32px;\n",
              "    }\n",
              "\n",
              "    .colab-df-convert:hover {\n",
              "      background-color: #E2EBFA;\n",
              "      box-shadow: 0px 1px 2px rgba(60, 64, 67, 0.3), 0px 1px 3px 1px rgba(60, 64, 67, 0.15);\n",
              "      fill: #174EA6;\n",
              "    }\n",
              "\n",
              "    [theme=dark] .colab-df-convert {\n",
              "      background-color: #3B4455;\n",
              "      fill: #D2E3FC;\n",
              "    }\n",
              "\n",
              "    [theme=dark] .colab-df-convert:hover {\n",
              "      background-color: #434B5C;\n",
              "      box-shadow: 0px 1px 3px 1px rgba(0, 0, 0, 0.15);\n",
              "      filter: drop-shadow(0px 1px 2px rgba(0, 0, 0, 0.3));\n",
              "      fill: #FFFFFF;\n",
              "    }\n",
              "  </style>\n",
              "\n",
              "      <script>\n",
              "        const buttonEl =\n",
              "          document.querySelector('#df-9c677c5f-4457-4a30-ab9b-4be90c3275aa button.colab-df-convert');\n",
              "        buttonEl.style.display =\n",
              "          google.colab.kernel.accessAllowed ? 'block' : 'none';\n",
              "\n",
              "        async function convertToInteractive(key) {\n",
              "          const element = document.querySelector('#df-9c677c5f-4457-4a30-ab9b-4be90c3275aa');\n",
              "          const dataTable =\n",
              "            await google.colab.kernel.invokeFunction('convertToInteractive',\n",
              "                                                     [key], {});\n",
              "          if (!dataTable) return;\n",
              "\n",
              "          const docLinkHtml = 'Like what you see? Visit the ' +\n",
              "            '<a target=\"_blank\" href=https://colab.research.google.com/notebooks/data_table.ipynb>data table notebook</a>'\n",
              "            + ' to learn more about interactive tables.';\n",
              "          element.innerHTML = '';\n",
              "          dataTable['output_type'] = 'display_data';\n",
              "          await google.colab.output.renderOutput(dataTable, element);\n",
              "          const docLink = document.createElement('div');\n",
              "          docLink.innerHTML = docLinkHtml;\n",
              "          element.appendChild(docLink);\n",
              "        }\n",
              "      </script>\n",
              "    </div>\n",
              "  </div>\n",
              "  "
            ]
          },
          "metadata": {},
          "execution_count": 261
        }
      ]
    },
    {
      "cell_type": "code",
      "source": [
        "X=income2[['Age','Age2','Hours per week','Male']].values # Modelo empleando Edad, edad^2, horas por semana, y Sexo\n",
        "X"
      ],
      "metadata": {
        "colab": {
          "base_uri": "https://localhost:8080/"
        },
        "id": "oUehgIcCdQBG",
        "outputId": "e1f8084c-becc-467a-8726-85e54883cbeb"
      },
      "execution_count": 262,
      "outputs": [
        {
          "output_type": "execute_result",
          "data": {
            "text/plain": [
              "array([[  39, 1521,   40,    1],\n",
              "       [  50, 2500,   13,    1],\n",
              "       [  38, 1444,   40,    1],\n",
              "       ...,\n",
              "       [  58, 3364,   40,    0],\n",
              "       [  22,  484,   20,    1],\n",
              "       [  52, 2704,   40,    0]])"
            ]
          },
          "metadata": {},
          "execution_count": 262
        }
      ]
    },
    {
      "cell_type": "code",
      "source": [
        "x1 = np.array([30., 30.**2,40.,1.]) ; x2 = np.array([40., 40.**2,40.,0.])\n",
        "\n",
        "# scale\n",
        "#x_scaled = ss.transform(x.reshape(1, -1)) # La media y desviacion que usaba antes, para regresar a los datos originales y predecir\n",
        "#x_ = x_scaled\n",
        "#x_\n",
        "x1_scaled=x1.reshape(1,-1) ; x2_scaled=x2.reshape(1,-1)\n",
        "x1_=x1_scaled ; x2_ = x2_scaled\n",
        "x1_ ; x2_"
      ],
      "metadata": {
        "colab": {
          "base_uri": "https://localhost:8080/"
        },
        "id": "acEOKfsBea42",
        "outputId": "5a1fe853-c096-4818-c4dd-44bcead042cf"
      },
      "execution_count": 263,
      "outputs": [
        {
          "output_type": "execute_result",
          "data": {
            "text/plain": [
              "array([[  40., 1600.,   40.,    0.]])"
            ]
          },
          "metadata": {},
          "execution_count": 263
        }
      ]
    },
    {
      "cell_type": "code",
      "source": [
        "linreg3 = LinearRegression(fit_intercept=True) # Con intercepto ya que no centralizamos los datos\n",
        "\n",
        "linreg3.fit(X, y)"
      ],
      "metadata": {
        "colab": {
          "base_uri": "https://localhost:8080/"
        },
        "id": "ZdcNlAIVg8Jc",
        "outputId": "49430818-9ce4-4f16-b223-bd2151fe1263"
      },
      "execution_count": 264,
      "outputs": [
        {
          "output_type": "execute_result",
          "data": {
            "text/plain": [
              "LinearRegression()"
            ]
          },
          "metadata": {},
          "execution_count": 264
        }
      ]
    },
    {
      "cell_type": "code",
      "source": [
        "linreg3.predict(x1_) # La prediccion de la renta de una persona de 30 años, que trabaja 40 horas a la semana y es hombre segun el modelo 3 es de 57075.38"
      ],
      "metadata": {
        "colab": {
          "base_uri": "https://localhost:8080/"
        },
        "id": "Wda35gDHiA8t",
        "outputId": "aaa0ae73-45fa-4c7c-c68d-2dcca61b2b31"
      },
      "execution_count": 265,
      "outputs": [
        {
          "output_type": "execute_result",
          "data": {
            "text/plain": [
              "array([[57075.38712298]])"
            ]
          },
          "metadata": {},
          "execution_count": 265
        }
      ]
    },
    {
      "cell_type": "code",
      "source": [
        "linreg3.predict(x2_) # Prediccion de la renta de una persona de 40 años, que trabaja 40 horas a la semana y es mujer segun el modelo 3 es de 45061.04"
      ],
      "metadata": {
        "colab": {
          "base_uri": "https://localhost:8080/"
        },
        "id": "_EcLP7ZLiV0j",
        "outputId": "59b181be-28d9-4c1f-e845-1e7cdd0aa75d"
      },
      "execution_count": 266,
      "outputs": [
        {
          "output_type": "execute_result",
          "data": {
            "text/plain": [
              "array([[45061.04327573]])"
            ]
          },
          "metadata": {},
          "execution_count": 266
        }
      ]
    },
    {
      "cell_type": "code",
      "source": [
        "print(linreg3.coef_ ,linreg3.intercept_)\n",
        "(3131.770-2415.50)/2415.50"
      ],
      "metadata": {
        "colab": {
          "base_uri": "https://localhost:8080/"
        },
        "id": "h_6T2j2pkfe7",
        "outputId": "cfcc1d13-93fa-4c0d-a19a-5964614b942f"
      },
      "execution_count": 267,
      "outputs": [
        {
          "output_type": "stream",
          "name": "stdout",
          "text": [
            "[[ 2415.50070173   -22.98736825   226.7663329  20078.19308672]] [-23849.84890293]\n"
          ]
        },
        {
          "output_type": "execute_result",
          "data": {
            "text/plain": [
              "0.29653073897743737"
            ]
          },
          "metadata": {},
          "execution_count": 267
        }
      ]
    },
    {
      "cell_type": "markdown",
      "source": [
        "El modelo 3 queda escrito como $Y=-23849.84+2415.50\\cdot{X_1}   -22.98\\cdot{X_2}  + 226.76\\cdot{X_3} +20078.19\\cdot{X_4}+ϵ$\n",
        "* Siendo $X_1 = $ Edad $X_2 = $ Edad^2 $X_3 = $ Horas por semana y $X_4 = $ Sexo"
      ],
      "metadata": {
        "id": "Wpu7jjzsklIa"
      }
    },
    {
      "cell_type": "markdown",
      "source": [
        "En comparacion al modelo anterior, se ven los siguientes aspectos\n",
        "* El intercepto $\\beta_0$ es negativo en el modelo 2 al igual que en el modelo 3\n",
        "* El $\\beta_1$ del modelo 2 es mayor con respecto al mode 3, pero ya con una diferencia del 30% aproximadamente\n",
        "* El incluir la variable sexo cambia en gran medida las estimaciones del modelo 3, y segun el modelo 3 sin revisar supuestos ni si se adecua bien, una persona de la misma edad y las mismas horas trabajadas pero siendo de sexo masculino, gana 20078.19 mas que una mujer"
      ],
      "metadata": {
        "id": "oeTY_nc-m24K"
      }
    },
    {
      "cell_type": "markdown",
      "source": [
        "## Ejercicio 4.5\n",
        "\n",
        "Utilizando las características seleccionadas en el punto anterior, parta la base en training (90%) y validación (10%). Posterior, con la bases de training (90%) aplique un modelo de regresión lineal usando K fold cross validation:\n",
        "* K = 2\n",
        "* K = 5\n",
        "* K = 10\n",
        "\n",
        "Calcule el MSE de test y el MSE de validación (10% restante) y compare los modelos."
      ],
      "metadata": {
        "id": "zjgkRP11WmnC"
      }
    },
    {
      "cell_type": "code",
      "source": [
        "# Separando en el 90% de entrenamiento y 10% de validacion\n",
        "from sklearn.model_selection import train_test_split\n",
        "X_train, X_test, y_train, y_test = train_test_split(X, y, test_size=0.10, random_state=1)\n",
        "print(X_train.shape, X_test.shape, y_train.shape, y_test.shape) #test_size= el 10% de los datos uselos para testear, random_state= es una semilla"
      ],
      "metadata": {
        "id": "tSpH8VhQWl_s",
        "colab": {
          "base_uri": "https://localhost:8080/"
        },
        "outputId": "7a305828-e2bb-40d9-fb6c-e3cfd026a642"
      },
      "execution_count": 268,
      "outputs": [
        {
          "output_type": "stream",
          "name": "stdout",
          "text": [
            "(29304, 4) (3257, 4) (29304, 1) (3257, 1)\n"
          ]
        }
      ]
    },
    {
      "cell_type": "markdown",
      "source": [
        "* Para k=2"
      ],
      "metadata": {
        "id": "17JbNxPL12YV"
      }
    },
    {
      "cell_type": "code",
      "source": [
        "# Crear el metodo K fold CV\n",
        "from sklearn.model_selection import KFold\n",
        "cv = KFold(n_splits=2, random_state=666, shuffle=True) # shuffle que no sea el mismo orden cuando llegan los datos\n",
        "clf1_tt = LinearRegression()"
      ],
      "metadata": {
        "id": "ibhPT7DNvRiQ"
      },
      "execution_count": 269,
      "outputs": []
    },
    {
      "cell_type": "code",
      "source": [
        "# Estimar el modelo en cada uno de los k folds\n",
        "from sklearn.model_selection import cross_val_score\n",
        "from sklearn.model_selection import cross_validate\n",
        "scores = cross_validate(clf1_tt, X_train, y_train,scoring='neg_mean_squared_error',cv=cv, return_estimator=True) # scoring= Metrica para evaluar el modelo, n_jobs= usar mas particiones de memoria para que sea mas rapido\n",
        "scores\n",
        "for model in scores['estimator']:\n",
        "    print(model.intercept_,model.coef_)"
      ],
      "metadata": {
        "colab": {
          "base_uri": "https://localhost:8080/"
        },
        "id": "6WV69qyLva49",
        "outputId": "89a9b944-040e-45a0-979b-ffe91932a59f"
      },
      "execution_count": 270,
      "outputs": [
        {
          "output_type": "stream",
          "name": "stdout",
          "text": [
            "[-23583.04846353] [[ 2378.37733779   -22.72866297   241.50410958 20351.33640708]]\n",
            "[-24038.5490115] [[ 2425.98959792   -22.93502336   224.62556668 19816.09871001]]\n"
          ]
        }
      ]
    },
    {
      "cell_type": "code",
      "source": [
        "scores['test_score']"
      ],
      "metadata": {
        "colab": {
          "base_uri": "https://localhost:8080/"
        },
        "id": "oIrUG1lIBQqK",
        "outputId": "38fb818e-6a88-4bb1-8824-bdbd153e07d4"
      },
      "execution_count": 271,
      "outputs": [
        {
          "output_type": "execute_result",
          "data": {
            "text/plain": [
              "array([-4.36350888e+08, -4.44699826e+08])"
            ]
          },
          "metadata": {},
          "execution_count": 271
        }
      ]
    },
    {
      "cell_type": "code",
      "source": [
        "# Calcular el mse para el modelo Con el testeo\n",
        "print('MSE regresión SGD:', abs(np.mean(scores['test_score']))) #440525356.9366698"
      ],
      "metadata": {
        "colab": {
          "base_uri": "https://localhost:8080/"
        },
        "id": "fg278nFtxB9O",
        "outputId": "5197dbc4-c1e8-4989-da08-7908d9c6ea61"
      },
      "execution_count": 272,
      "outputs": [
        {
          "output_type": "stream",
          "name": "stdout",
          "text": [
            "MSE regresión SGD: 440525356.9366698\n"
          ]
        }
      ]
    },
    {
      "cell_type": "markdown",
      "source": [
        "Ahora el modelo despues del testeo con k=2 promediando los modelos que empleo para cada validacion, queda escrito de la siguiente forma\n",
        "\n",
        "$Y = -23810.798+ 2402.183\\cdot{X_1} -22.831\\cdot{X_2}+ 233.064\\cdot{X_3}+ 20083.717\\cdot{X_4}+ϵ$"
      ],
      "metadata": {
        "id": "t_ukOIL0CVFa"
      }
    },
    {
      "cell_type": "code",
      "source": [
        "intercepto =(-23583.04846353-24038.5490115)/2\n",
        "Beta_1 = (2378.37733779+2425.98959792)/2\n",
        "Beta_2 = (-22.72866297+-22.93502336)/2\n",
        "Beta_3 = (241.50410958 + 224.62556668)/2 \n",
        "Beta_4 = (20351.33640708 + 19816.09871001)/2\n",
        "print(intercepto,Beta_1,Beta_2,Beta_3,Beta_4)"
      ],
      "metadata": {
        "colab": {
          "base_uri": "https://localhost:8080/"
        },
        "id": "54LI0qAjFqaq",
        "outputId": "0498dd8f-205e-4fdd-ed21-fbfd3678d3e2"
      },
      "execution_count": 273,
      "outputs": [
        {
          "output_type": "stream",
          "name": "stdout",
          "text": [
            "-23810.798737515 2402.1834678550003 -22.831843165 233.06483813 20083.717558545002\n"
          ]
        }
      ]
    },
    {
      "cell_type": "code",
      "source": [
        "y_pred=[]\n",
        "for i in range(0,3257,1):\n",
        "  y_pred.append(-23810.798737515 +2402.1834678550003*X_test[i][0] -22.831843165*X_test[i][1] +233.06483813*X_test[i][2] +20083.717558545002*X_test[i][3])"
      ],
      "metadata": {
        "id": "ifM4bHpgyhPt"
      },
      "execution_count": 274,
      "outputs": []
    },
    {
      "cell_type": "code",
      "source": [
        "from sklearn import metrics\n",
        "print('MSE regresión lineal:', metrics.mean_squared_error(y_test, y_pred))"
      ],
      "metadata": {
        "colab": {
          "base_uri": "https://localhost:8080/"
        },
        "id": "OdzaMt2z1W2n",
        "outputId": "86a30a98-672a-407b-aa3d-68ad76eb3c21"
      },
      "execution_count": 275,
      "outputs": [
        {
          "output_type": "stream",
          "name": "stdout",
          "text": [
            "MSE regresión lineal: 432184016.2892616\n"
          ]
        }
      ]
    },
    {
      "cell_type": "markdown",
      "source": [
        "* Para k = 5"
      ],
      "metadata": {
        "id": "4nrEwUkZ15d0"
      }
    },
    {
      "cell_type": "code",
      "source": [
        "# Crear el metodo K fold CV\n",
        "from sklearn.model_selection import KFold\n",
        "cv = KFold(n_splits=5, random_state=666, shuffle=True) # shuffle que no sea el mismo orden cuando llegan los datos\n",
        "clf1_tt = LinearRegression()"
      ],
      "metadata": {
        "id": "IldaYMa41-D7"
      },
      "execution_count": 276,
      "outputs": []
    },
    {
      "cell_type": "code",
      "source": [
        "# Estimar el modelo en cada uno de los k folds\n",
        "from sklearn.model_selection import cross_val_score\n",
        "from sklearn.model_selection import cross_validate\n",
        "scores = cross_validate(clf1_tt, X_train, y_train,scoring='neg_mean_squared_error',cv=cv, return_estimator=True) # scoring= Metrica para evaluar el modelo, n_jobs= usar mas particiones de memoria para que sea mas rapido\n",
        "scores\n",
        "for model in scores['estimator']:\n",
        "    print(model.intercept_,model.coef_)"
      ],
      "metadata": {
        "colab": {
          "base_uri": "https://localhost:8080/"
        },
        "id": "kfiW34Ww2tTm",
        "outputId": "aa533a6d-2f8c-4642-e208-0dd58dc28263"
      },
      "execution_count": 277,
      "outputs": [
        {
          "output_type": "stream",
          "name": "stdout",
          "text": [
            "[-24024.18590807] [[ 2409.66728612   -22.96620828   234.68529186 20092.16603719]]\n",
            "[-23728.06698899] [[ 2391.95784935   -22.76516295   235.84326103 20290.50429858]]\n",
            "[-23582.28533531] [[ 2395.56645061   -22.73280014   231.51540492 20042.94573579]]\n",
            "[-24754.20366785] [[ 2452.57304294   -23.40238191   231.72652292 20060.61974617]]\n",
            "[-23011.92686344] [[ 2365.18706968   -22.34276001   230.63876541 19950.62593195]]\n"
          ]
        }
      ]
    },
    {
      "cell_type": "code",
      "source": [
        "scores['test_score']"
      ],
      "metadata": {
        "colab": {
          "base_uri": "https://localhost:8080/"
        },
        "id": "S0e2UGtj2y38",
        "outputId": "ce35775d-fc96-47b2-ed5c-409ce342ea34"
      },
      "execution_count": 278,
      "outputs": [
        {
          "output_type": "execute_result",
          "data": {
            "text/plain": [
              "array([-4.44555287e+08, -4.33967650e+08, -4.28104871e+08, -4.54380502e+08,\n",
              "       -4.41297270e+08])"
            ]
          },
          "metadata": {},
          "execution_count": 278
        }
      ]
    },
    {
      "cell_type": "code",
      "source": [
        "# Calcular el mse para el modelo Con el testeo\n",
        "print('MSE regresión SGD:', abs(np.mean(scores['test_score']))) #440461116.1168003"
      ],
      "metadata": {
        "colab": {
          "base_uri": "https://localhost:8080/"
        },
        "id": "FYWMm3Tj23bD",
        "outputId": "fff852f3-9326-4a44-c8f7-e2c5742f22de"
      },
      "execution_count": 279,
      "outputs": [
        {
          "output_type": "stream",
          "name": "stdout",
          "text": [
            "MSE regresión SGD: 440461116.1168003\n"
          ]
        }
      ]
    },
    {
      "cell_type": "code",
      "source": [
        "intercepto =(-24024.18590807-23728.06698899-23582.28533531-24754.20366785-23011.92686344)/5\n",
        "Beta_1 = (2409.66728612  + 2391.95784935 +  2395.56645061  + 2452.57304294  + 2365.18706968 )/5\n",
        "Beta_2 = (-22.96620828+-22.76516295-22.73280014-23.40238191-22.34276001)/5\n",
        "Beta_3 = (234.68529186+ 235.84326103+231.51540492+231.72652292+230.63876541)/5 \n",
        "Beta_4 = (20092.16603719 +  20290.50429858 +20042.94573579+20060.61974617+19950.62593195)/5\n",
        "print(intercepto,Beta_1,Beta_2,Beta_3,Beta_4)"
      ],
      "metadata": {
        "colab": {
          "base_uri": "https://localhost:8080/"
        },
        "id": "B0eQ08-e27sE",
        "outputId": "452370bf-d4df-4b45-88f9-29c39b2948c8"
      },
      "execution_count": 280,
      "outputs": [
        {
          "output_type": "stream",
          "name": "stdout",
          "text": [
            "-23820.133752731996 2402.99033974 -22.841862658000004 232.88184922800002 20087.372349936\n"
          ]
        }
      ]
    },
    {
      "cell_type": "markdown",
      "source": [
        "**Modelo para K=5**\n",
        "\n",
        "$Y = -23820.133 +2402.990\\cdot{X_1}  -22.841\\cdot{X_2} +232.881\\cdot{X_3} +20087.372\\cdot{X_4}+ϵ$"
      ],
      "metadata": {
        "id": "gcBdWV4l-axY"
      }
    },
    {
      "cell_type": "code",
      "source": [
        "y_pred=[]\n",
        "for i in range(0,3257,1):\n",
        "  y_pred.append(  -23820.133752731996 +2402.99033974*X_test[i][0]  -22.841862658000004*X_test[i][1] +232.88184922800002*X_test[i][2] +20087.372349936*X_test[i][3])"
      ],
      "metadata": {
        "id": "u5Lnd39O3AOE"
      },
      "execution_count": 281,
      "outputs": []
    },
    {
      "cell_type": "code",
      "source": [
        "from sklearn import metrics\n",
        "print('MSE regresión lineal:', metrics.mean_squared_error(y_test, y_pred)) "
      ],
      "metadata": {
        "colab": {
          "base_uri": "https://localhost:8080/"
        },
        "id": "2Go6mvFf3Crz",
        "outputId": "8d360292-eb0a-4cbf-a70c-93b0cfada1c9"
      },
      "execution_count": 282,
      "outputs": [
        {
          "output_type": "stream",
          "name": "stdout",
          "text": [
            "MSE regresión lineal: 432181393.9835898\n"
          ]
        }
      ]
    },
    {
      "cell_type": "markdown",
      "source": [
        "* Para K = 10"
      ],
      "metadata": {
        "id": "z8onau8p4pqy"
      }
    },
    {
      "cell_type": "code",
      "source": [
        "# Crear el metodo K fold CV\n",
        "from sklearn.model_selection import KFold\n",
        "cv = KFold(n_splits=10, random_state=666, shuffle=True) # shuffle que no sea el mismo orden cuando llegan los datos\n",
        "clf1_tt = LinearRegression()"
      ],
      "metadata": {
        "id": "717na31v4ydI"
      },
      "execution_count": 283,
      "outputs": []
    },
    {
      "cell_type": "code",
      "source": [
        "# Estimar el modelo en cada uno de los k folds\n",
        "from sklearn.model_selection import cross_val_score\n",
        "from sklearn.model_selection import cross_validate\n",
        "scores = cross_validate(clf1_tt, X_train, y_train,scoring='neg_mean_squared_error',cv=cv, return_estimator=True) # scoring= Metrica para evaluar el modelo, n_jobs= usar mas particiones de memoria para que sea mas rapido\n",
        "scores\n",
        "for model in scores['estimator']:\n",
        "    print(model.intercept_,model.coef_)"
      ],
      "metadata": {
        "colab": {
          "base_uri": "https://localhost:8080/"
        },
        "id": "CHaX8FCg40Gn",
        "outputId": "20937892-9a69-47b0-b550-aab69a8d839a"
      },
      "execution_count": 284,
      "outputs": [
        {
          "output_type": "stream",
          "name": "stdout",
          "text": [
            "[-23896.99571235] [[ 2404.0944153    -22.88173193   233.9374211  20127.85087167]]\n",
            "[-23913.51441453] [[ 2407.2789128    -22.90584502   233.39200843 20052.3279279 ]]\n",
            "[-23950.16540371] [[ 2398.11229431   -22.80764481   236.275118   20241.43959229]]\n",
            "[-23608.40017258] [[ 2398.0862467    -22.80928863   232.11911201 20111.3534845 ]]\n",
            "[-23578.00298687] [[ 2392.61341392   -22.72775095   233.33254216 20054.00223329]]\n",
            "[-23848.57058568] [[ 2406.36236715   -22.85093804   231.24322263 20081.63975406]]\n",
            "[-24097.16320449] [[ 2414.97800141   -22.96760183   232.04232695 20170.5737686 ]]\n",
            "[-24364.29066073] [[ 2434.55227519   -23.20675161   232.63597116 19980.61486959]]\n",
            "[-23469.74188496] [[ 2382.80286461   -22.60804341   234.74997351 20062.76702148]]\n",
            "[-23438.93472933] [[ 2388.90083235   -22.62298029   228.97203247 19990.25822578]]\n"
          ]
        }
      ]
    },
    {
      "cell_type": "code",
      "source": [
        "scores['test_score']"
      ],
      "metadata": {
        "colab": {
          "base_uri": "https://localhost:8080/"
        },
        "id": "2tPikyZ542HP",
        "outputId": "82269b01-cce1-441d-9c32-38f0cc2daf60"
      },
      "execution_count": 285,
      "outputs": [
        {
          "output_type": "execute_result",
          "data": {
            "text/plain": [
              "array([-4.48598983e+08, -4.40376837e+08, -4.30663632e+08, -4.37671082e+08,\n",
              "       -4.23645378e+08, -4.32022429e+08, -4.61249085e+08, -4.47561579e+08,\n",
              "       -4.32234987e+08, -4.50215332e+08])"
            ]
          },
          "metadata": {},
          "execution_count": 285
        }
      ]
    },
    {
      "cell_type": "code",
      "source": [
        "# Calcular el mse para el modelo Con el testeo\n",
        "print('MSE regresión SGD:', abs(np.mean(scores['test_score']))) #440423932.4094578"
      ],
      "metadata": {
        "colab": {
          "base_uri": "https://localhost:8080/"
        },
        "id": "Sk0gMJV-49Pl",
        "outputId": "64192228-ebbd-453d-e765-82c20b0e2b0c"
      },
      "execution_count": 286,
      "outputs": [
        {
          "output_type": "stream",
          "name": "stdout",
          "text": [
            "MSE regresión SGD: 440423932.4094578\n"
          ]
        }
      ]
    },
    {
      "cell_type": "code",
      "source": [
        "intercepto =(-23896.99571235-23913.51441453-23950.16540371-23608.40017258-23578.00298687-23848.57058568-24097.16320449-24364.29066073-23469.74188496-23438.93472933)/10\n",
        "Beta_1 = (2404.0944153  +  2407.2789128 +2398.11229431  + 2398.0862467  +  2392.61341392  + 2406.36236715  + 2414.97800141  + 2434.55227519 + 2382.80286461 + 2388.90083235 )/10\n",
        "Beta_2 = (-22.88173193 +-22.90584502-22.80764481 -22.80928863 -22.72775095 -22.85093804 -22.96760183 -23.20675161 -22.60804341 -22.62298029 )/10\n",
        "Beta_3 = (233.9374211 + 233.39200843 + 236.275118 + 232.11911201+ 233.33254216 + 231.24322263 + 232.04232695+ 232.63597116 + 234.74997351 +228.97203247 )/10\n",
        "Beta_4 = (20127.85087167 +  20052.3279279 +  20241.43959229 +20111.3534845 + 20054.00223329  + 20081.63975406 + 20170.5737686+ 19980.61486959 + 20062.76702148 + 19990.25822578)/10\n",
        "print(intercepto,Beta_1,Beta_2,Beta_3,Beta_4)"
      ],
      "metadata": {
        "colab": {
          "base_uri": "https://localhost:8080/"
        },
        "id": "RI8Ucvcb4_A1",
        "outputId": "17940996-4435-40eb-bf29-1a5dca9d983a"
      },
      "execution_count": 287,
      "outputs": [
        {
          "output_type": "stream",
          "name": "stdout",
          "text": [
            "-23816.577975523003 2402.7781623739997 -22.838857652 232.869972842 20087.282774916\n"
          ]
        }
      ]
    },
    {
      "cell_type": "markdown",
      "source": [
        "**Modelo para K=10**\n",
        "\n",
        "$Y = -23816.577 + 2402.778\\cdot{X_1}  -22.838\\cdot{X_2} + 232.869\\cdot{X_3} + 20087.282\\cdot{X_4} +ϵ$"
      ],
      "metadata": {
        "id": "uHlfESea_DW_"
      }
    },
    {
      "cell_type": "code",
      "source": [
        "y_pred=[]\n",
        "for i in range(0,3257,1):\n",
        "  y_pred.append(-23816.577975523003 +2402.7781623739997*X_test[i][0] -22.838857652*X_test[i][1] +232.869972842*X_test[i][2]+ 20087.282774916*X_test[i][3])"
      ],
      "metadata": {
        "id": "WaMbdF9o4_s1"
      },
      "execution_count": 288,
      "outputs": []
    },
    {
      "cell_type": "code",
      "source": [
        "from sklearn import metrics\n",
        "print('MSE regresión lineal:', metrics.mean_squared_error(y_test, y_pred)) #432181218.8934354 432184016.2892616 432181393.9835898"
      ],
      "metadata": {
        "colab": {
          "base_uri": "https://localhost:8080/"
        },
        "id": "Ju-CoEzv5Cr8",
        "outputId": "c450ae19-f778-4c88-f81d-09a9a6c6e5ca"
      },
      "execution_count": 289,
      "outputs": [
        {
          "output_type": "stream",
          "name": "stdout",
          "text": [
            "MSE regresión lineal: 432181218.8934354\n"
          ]
        }
      ]
    },
    {
      "cell_type": "code",
      "source": [
        "min([432181218.8934354, 432184016.2892616 ,432181393.9835898])"
      ],
      "metadata": {
        "colab": {
          "base_uri": "https://localhost:8080/"
        },
        "id": "TEbWYfMP8zWA",
        "outputId": "9d814e3a-7469-4b9b-fe3b-3fb36b629f6d"
      },
      "execution_count": 290,
      "outputs": [
        {
          "output_type": "execute_result",
          "data": {
            "text/plain": [
              "432181218.8934354"
            ]
          },
          "metadata": {},
          "execution_count": 290
        }
      ]
    },
    {
      "cell_type": "markdown",
      "source": [
        "El modelo con el menor error cuadratico medio testeando con el 10% de la base, es el modelo resultante de una validacion cruzada con k = 10, aunque la diferencia empleando esta metrica no es ni del 1%"
      ],
      "metadata": {
        "id": "1qrQNFDu8727"
      }
    },
    {
      "cell_type": "markdown",
      "metadata": {
        "id": "6ZotgUpZrQm_"
      },
      "source": [
        "#Parte 2: Regresión Logística\n",
        "\n",
        "### Customer Churn: \n",
        "La pérdida/abandono de los clientes de la empresa. Especialmente, las industrias que la adquisición de usuarios es costosa, es de crucial importancia para una empresa para reducir e idealmente hacer que la rotación de clientes a 0 para mantener sus ingresos recurrentes. Si se considera que la retención de clientes es siempre más barata que la adquisición de clientes y generalmente depende de los datos del usuario (uso del servicio o producto), plantea un gran/excitante/difícil problema para el aprendizaje automático.\n",
        "\n",
        "### Datos\n",
        "El conjunto de datos procede de un proveedor de servicios de telecomunicaciones en el que se recoge el uso del servicio (plan internacional, plan de buzón de voz, uso diurno, uso nocturno, etc.) y la información demográfica básica (estado y código de área) del usuario. En el caso de las etiquetas, tengo un único punto de datos que indica si el cliente ha sido dado de baja o no.\n"
      ]
    },
    {
      "cell_type": "code",
      "metadata": {
        "id": "TgPh9vh-rQnA"
      },
      "source": [
        "# Download the dataset\n",
        "data = pd.read_csv('https://github.com/ghuiber/churn/raw/master/data/churn.csv')"
      ],
      "execution_count": 291,
      "outputs": []
    },
    {
      "cell_type": "code",
      "metadata": {
        "id": "_upTQFR_rQnA",
        "colab": {
          "base_uri": "https://localhost:8080/",
          "height": 384
        },
        "outputId": "6a9e62fa-e1ca-4bc3-8a73-34f4a5e1ec3d"
      },
      "source": [
        "data.head()"
      ],
      "execution_count": 292,
      "outputs": [
        {
          "output_type": "execute_result",
          "data": {
            "text/plain": [
              "  State  Account Length  Area Code     Phone Int'l Plan VMail Plan  \\\n",
              "0    KS             128        415  382-4657         no        yes   \n",
              "1    OH             107        415  371-7191         no        yes   \n",
              "2    NJ             137        415  358-1921         no         no   \n",
              "3    OH              84        408  375-9999        yes         no   \n",
              "4    OK              75        415  330-6626        yes         no   \n",
              "\n",
              "   VMail Message  Day Mins  Day Calls  Day Charge  ...  Eve Calls  Eve Charge  \\\n",
              "0             25     265.1        110       45.07  ...         99       16.78   \n",
              "1             26     161.6        123       27.47  ...        103       16.62   \n",
              "2              0     243.4        114       41.38  ...        110       10.30   \n",
              "3              0     299.4         71       50.90  ...         88        5.26   \n",
              "4              0     166.7        113       28.34  ...        122       12.61   \n",
              "\n",
              "   Night Mins  Night Calls  Night Charge  Intl Mins  Intl Calls  Intl Charge  \\\n",
              "0       244.7           91         11.01       10.0           3         2.70   \n",
              "1       254.4          103         11.45       13.7           3         3.70   \n",
              "2       162.6          104          7.32       12.2           5         3.29   \n",
              "3       196.9           89          8.86        6.6           7         1.78   \n",
              "4       186.9          121          8.41       10.1           3         2.73   \n",
              "\n",
              "   CustServ Calls  Churn?  \n",
              "0               1  False.  \n",
              "1               1  False.  \n",
              "2               0  False.  \n",
              "3               2  False.  \n",
              "4               3  False.  \n",
              "\n",
              "[5 rows x 21 columns]"
            ],
            "text/html": [
              "\n",
              "  <div id=\"df-57074cef-793a-4d29-9d57-3411aa276d02\">\n",
              "    <div class=\"colab-df-container\">\n",
              "      <div>\n",
              "<style scoped>\n",
              "    .dataframe tbody tr th:only-of-type {\n",
              "        vertical-align: middle;\n",
              "    }\n",
              "\n",
              "    .dataframe tbody tr th {\n",
              "        vertical-align: top;\n",
              "    }\n",
              "\n",
              "    .dataframe thead th {\n",
              "        text-align: right;\n",
              "    }\n",
              "</style>\n",
              "<table border=\"1\" class=\"dataframe\">\n",
              "  <thead>\n",
              "    <tr style=\"text-align: right;\">\n",
              "      <th></th>\n",
              "      <th>State</th>\n",
              "      <th>Account Length</th>\n",
              "      <th>Area Code</th>\n",
              "      <th>Phone</th>\n",
              "      <th>Int'l Plan</th>\n",
              "      <th>VMail Plan</th>\n",
              "      <th>VMail Message</th>\n",
              "      <th>Day Mins</th>\n",
              "      <th>Day Calls</th>\n",
              "      <th>Day Charge</th>\n",
              "      <th>...</th>\n",
              "      <th>Eve Calls</th>\n",
              "      <th>Eve Charge</th>\n",
              "      <th>Night Mins</th>\n",
              "      <th>Night Calls</th>\n",
              "      <th>Night Charge</th>\n",
              "      <th>Intl Mins</th>\n",
              "      <th>Intl Calls</th>\n",
              "      <th>Intl Charge</th>\n",
              "      <th>CustServ Calls</th>\n",
              "      <th>Churn?</th>\n",
              "    </tr>\n",
              "  </thead>\n",
              "  <tbody>\n",
              "    <tr>\n",
              "      <th>0</th>\n",
              "      <td>KS</td>\n",
              "      <td>128</td>\n",
              "      <td>415</td>\n",
              "      <td>382-4657</td>\n",
              "      <td>no</td>\n",
              "      <td>yes</td>\n",
              "      <td>25</td>\n",
              "      <td>265.1</td>\n",
              "      <td>110</td>\n",
              "      <td>45.07</td>\n",
              "      <td>...</td>\n",
              "      <td>99</td>\n",
              "      <td>16.78</td>\n",
              "      <td>244.7</td>\n",
              "      <td>91</td>\n",
              "      <td>11.01</td>\n",
              "      <td>10.0</td>\n",
              "      <td>3</td>\n",
              "      <td>2.70</td>\n",
              "      <td>1</td>\n",
              "      <td>False.</td>\n",
              "    </tr>\n",
              "    <tr>\n",
              "      <th>1</th>\n",
              "      <td>OH</td>\n",
              "      <td>107</td>\n",
              "      <td>415</td>\n",
              "      <td>371-7191</td>\n",
              "      <td>no</td>\n",
              "      <td>yes</td>\n",
              "      <td>26</td>\n",
              "      <td>161.6</td>\n",
              "      <td>123</td>\n",
              "      <td>27.47</td>\n",
              "      <td>...</td>\n",
              "      <td>103</td>\n",
              "      <td>16.62</td>\n",
              "      <td>254.4</td>\n",
              "      <td>103</td>\n",
              "      <td>11.45</td>\n",
              "      <td>13.7</td>\n",
              "      <td>3</td>\n",
              "      <td>3.70</td>\n",
              "      <td>1</td>\n",
              "      <td>False.</td>\n",
              "    </tr>\n",
              "    <tr>\n",
              "      <th>2</th>\n",
              "      <td>NJ</td>\n",
              "      <td>137</td>\n",
              "      <td>415</td>\n",
              "      <td>358-1921</td>\n",
              "      <td>no</td>\n",
              "      <td>no</td>\n",
              "      <td>0</td>\n",
              "      <td>243.4</td>\n",
              "      <td>114</td>\n",
              "      <td>41.38</td>\n",
              "      <td>...</td>\n",
              "      <td>110</td>\n",
              "      <td>10.30</td>\n",
              "      <td>162.6</td>\n",
              "      <td>104</td>\n",
              "      <td>7.32</td>\n",
              "      <td>12.2</td>\n",
              "      <td>5</td>\n",
              "      <td>3.29</td>\n",
              "      <td>0</td>\n",
              "      <td>False.</td>\n",
              "    </tr>\n",
              "    <tr>\n",
              "      <th>3</th>\n",
              "      <td>OH</td>\n",
              "      <td>84</td>\n",
              "      <td>408</td>\n",
              "      <td>375-9999</td>\n",
              "      <td>yes</td>\n",
              "      <td>no</td>\n",
              "      <td>0</td>\n",
              "      <td>299.4</td>\n",
              "      <td>71</td>\n",
              "      <td>50.90</td>\n",
              "      <td>...</td>\n",
              "      <td>88</td>\n",
              "      <td>5.26</td>\n",
              "      <td>196.9</td>\n",
              "      <td>89</td>\n",
              "      <td>8.86</td>\n",
              "      <td>6.6</td>\n",
              "      <td>7</td>\n",
              "      <td>1.78</td>\n",
              "      <td>2</td>\n",
              "      <td>False.</td>\n",
              "    </tr>\n",
              "    <tr>\n",
              "      <th>4</th>\n",
              "      <td>OK</td>\n",
              "      <td>75</td>\n",
              "      <td>415</td>\n",
              "      <td>330-6626</td>\n",
              "      <td>yes</td>\n",
              "      <td>no</td>\n",
              "      <td>0</td>\n",
              "      <td>166.7</td>\n",
              "      <td>113</td>\n",
              "      <td>28.34</td>\n",
              "      <td>...</td>\n",
              "      <td>122</td>\n",
              "      <td>12.61</td>\n",
              "      <td>186.9</td>\n",
              "      <td>121</td>\n",
              "      <td>8.41</td>\n",
              "      <td>10.1</td>\n",
              "      <td>3</td>\n",
              "      <td>2.73</td>\n",
              "      <td>3</td>\n",
              "      <td>False.</td>\n",
              "    </tr>\n",
              "  </tbody>\n",
              "</table>\n",
              "<p>5 rows × 21 columns</p>\n",
              "</div>\n",
              "      <button class=\"colab-df-convert\" onclick=\"convertToInteractive('df-57074cef-793a-4d29-9d57-3411aa276d02')\"\n",
              "              title=\"Convert this dataframe to an interactive table.\"\n",
              "              style=\"display:none;\">\n",
              "        \n",
              "  <svg xmlns=\"http://www.w3.org/2000/svg\" height=\"24px\"viewBox=\"0 0 24 24\"\n",
              "       width=\"24px\">\n",
              "    <path d=\"M0 0h24v24H0V0z\" fill=\"none\"/>\n",
              "    <path d=\"M18.56 5.44l.94 2.06.94-2.06 2.06-.94-2.06-.94-.94-2.06-.94 2.06-2.06.94zm-11 1L8.5 8.5l.94-2.06 2.06-.94-2.06-.94L8.5 2.5l-.94 2.06-2.06.94zm10 10l.94 2.06.94-2.06 2.06-.94-2.06-.94-.94-2.06-.94 2.06-2.06.94z\"/><path d=\"M17.41 7.96l-1.37-1.37c-.4-.4-.92-.59-1.43-.59-.52 0-1.04.2-1.43.59L10.3 9.45l-7.72 7.72c-.78.78-.78 2.05 0 2.83L4 21.41c.39.39.9.59 1.41.59.51 0 1.02-.2 1.41-.59l7.78-7.78 2.81-2.81c.8-.78.8-2.07 0-2.86zM5.41 20L4 18.59l7.72-7.72 1.47 1.35L5.41 20z\"/>\n",
              "  </svg>\n",
              "      </button>\n",
              "      \n",
              "  <style>\n",
              "    .colab-df-container {\n",
              "      display:flex;\n",
              "      flex-wrap:wrap;\n",
              "      gap: 12px;\n",
              "    }\n",
              "\n",
              "    .colab-df-convert {\n",
              "      background-color: #E8F0FE;\n",
              "      border: none;\n",
              "      border-radius: 50%;\n",
              "      cursor: pointer;\n",
              "      display: none;\n",
              "      fill: #1967D2;\n",
              "      height: 32px;\n",
              "      padding: 0 0 0 0;\n",
              "      width: 32px;\n",
              "    }\n",
              "\n",
              "    .colab-df-convert:hover {\n",
              "      background-color: #E2EBFA;\n",
              "      box-shadow: 0px 1px 2px rgba(60, 64, 67, 0.3), 0px 1px 3px 1px rgba(60, 64, 67, 0.15);\n",
              "      fill: #174EA6;\n",
              "    }\n",
              "\n",
              "    [theme=dark] .colab-df-convert {\n",
              "      background-color: #3B4455;\n",
              "      fill: #D2E3FC;\n",
              "    }\n",
              "\n",
              "    [theme=dark] .colab-df-convert:hover {\n",
              "      background-color: #434B5C;\n",
              "      box-shadow: 0px 1px 3px 1px rgba(0, 0, 0, 0.15);\n",
              "      filter: drop-shadow(0px 1px 2px rgba(0, 0, 0, 0.3));\n",
              "      fill: #FFFFFF;\n",
              "    }\n",
              "  </style>\n",
              "\n",
              "      <script>\n",
              "        const buttonEl =\n",
              "          document.querySelector('#df-57074cef-793a-4d29-9d57-3411aa276d02 button.colab-df-convert');\n",
              "        buttonEl.style.display =\n",
              "          google.colab.kernel.accessAllowed ? 'block' : 'none';\n",
              "\n",
              "        async function convertToInteractive(key) {\n",
              "          const element = document.querySelector('#df-57074cef-793a-4d29-9d57-3411aa276d02');\n",
              "          const dataTable =\n",
              "            await google.colab.kernel.invokeFunction('convertToInteractive',\n",
              "                                                     [key], {});\n",
              "          if (!dataTable) return;\n",
              "\n",
              "          const docLinkHtml = 'Like what you see? Visit the ' +\n",
              "            '<a target=\"_blank\" href=https://colab.research.google.com/notebooks/data_table.ipynb>data table notebook</a>'\n",
              "            + ' to learn more about interactive tables.';\n",
              "          element.innerHTML = '';\n",
              "          dataTable['output_type'] = 'display_data';\n",
              "          await google.colab.output.renderOutput(dataTable, element);\n",
              "          const docLink = document.createElement('div');\n",
              "          docLink.innerHTML = docLinkHtml;\n",
              "          element.appendChild(docLink);\n",
              "        }\n",
              "      </script>\n",
              "    </div>\n",
              "  </div>\n",
              "  "
            ]
          },
          "metadata": {},
          "execution_count": 292
        }
      ]
    },
    {
      "cell_type": "markdown",
      "metadata": {
        "id": "ka0sMeFdrQnB"
      },
      "source": [
        "# Ejercicio 4.6\n",
        "\n",
        "¿Cuál es la distribución de los churners? Haga la transformación correspondiente para predecir Churn. (0-FAlse, 1-True)\n",
        "\n"
      ]
    },
    {
      "cell_type": "code",
      "source": [
        "Churn=pd.get_dummies(data['Churn?'] , drop_first=True) # Creando la Dummy donde 1 es Verdadero\n",
        "data2=pd.concat([data,Churn], axis = 1)\n",
        "data2"
      ],
      "metadata": {
        "id": "IMP8Y_r_Wdox",
        "colab": {
          "base_uri": "https://localhost:8080/",
          "height": 659
        },
        "outputId": "5ed8c476-2bf0-4685-9aa4-0a8bed625ead"
      },
      "execution_count": 293,
      "outputs": [
        {
          "output_type": "execute_result",
          "data": {
            "text/plain": [
              "     State  Account Length  Area Code     Phone Int'l Plan VMail Plan  \\\n",
              "0       KS             128        415  382-4657         no        yes   \n",
              "1       OH             107        415  371-7191         no        yes   \n",
              "2       NJ             137        415  358-1921         no         no   \n",
              "3       OH              84        408  375-9999        yes         no   \n",
              "4       OK              75        415  330-6626        yes         no   \n",
              "...    ...             ...        ...       ...        ...        ...   \n",
              "3328    AZ             192        415  414-4276         no        yes   \n",
              "3329    WV              68        415  370-3271         no         no   \n",
              "3330    RI              28        510  328-8230         no         no   \n",
              "3331    CT             184        510  364-6381        yes         no   \n",
              "3332    TN              74        415  400-4344         no        yes   \n",
              "\n",
              "      VMail Message  Day Mins  Day Calls  Day Charge  ...  Eve Charge  \\\n",
              "0                25     265.1        110       45.07  ...       16.78   \n",
              "1                26     161.6        123       27.47  ...       16.62   \n",
              "2                 0     243.4        114       41.38  ...       10.30   \n",
              "3                 0     299.4         71       50.90  ...        5.26   \n",
              "4                 0     166.7        113       28.34  ...       12.61   \n",
              "...             ...       ...        ...         ...  ...         ...   \n",
              "3328             36     156.2         77       26.55  ...       18.32   \n",
              "3329              0     231.1         57       39.29  ...       13.04   \n",
              "3330              0     180.8        109       30.74  ...       24.55   \n",
              "3331              0     213.8        105       36.35  ...       13.57   \n",
              "3332             25     234.4        113       39.85  ...       22.60   \n",
              "\n",
              "      Night Mins  Night Calls  Night Charge  Intl Mins  Intl Calls  \\\n",
              "0          244.7           91         11.01       10.0           3   \n",
              "1          254.4          103         11.45       13.7           3   \n",
              "2          162.6          104          7.32       12.2           5   \n",
              "3          196.9           89          8.86        6.6           7   \n",
              "4          186.9          121          8.41       10.1           3   \n",
              "...          ...          ...           ...        ...         ...   \n",
              "3328       279.1           83         12.56        9.9           6   \n",
              "3329       191.3          123          8.61        9.6           4   \n",
              "3330       191.9           91          8.64       14.1           6   \n",
              "3331       139.2          137          6.26        5.0          10   \n",
              "3332       241.4           77         10.86       13.7           4   \n",
              "\n",
              "      Intl Charge  CustServ Calls  Churn?  True.  \n",
              "0            2.70               1  False.      0  \n",
              "1            3.70               1  False.      0  \n",
              "2            3.29               0  False.      0  \n",
              "3            1.78               2  False.      0  \n",
              "4            2.73               3  False.      0  \n",
              "...           ...             ...     ...    ...  \n",
              "3328         2.67               2  False.      0  \n",
              "3329         2.59               3  False.      0  \n",
              "3330         3.81               2  False.      0  \n",
              "3331         1.35               2  False.      0  \n",
              "3332         3.70               0  False.      0  \n",
              "\n",
              "[3333 rows x 22 columns]"
            ],
            "text/html": [
              "\n",
              "  <div id=\"df-c90841e4-5d73-42ab-ba1f-57c6f3c32e22\">\n",
              "    <div class=\"colab-df-container\">\n",
              "      <div>\n",
              "<style scoped>\n",
              "    .dataframe tbody tr th:only-of-type {\n",
              "        vertical-align: middle;\n",
              "    }\n",
              "\n",
              "    .dataframe tbody tr th {\n",
              "        vertical-align: top;\n",
              "    }\n",
              "\n",
              "    .dataframe thead th {\n",
              "        text-align: right;\n",
              "    }\n",
              "</style>\n",
              "<table border=\"1\" class=\"dataframe\">\n",
              "  <thead>\n",
              "    <tr style=\"text-align: right;\">\n",
              "      <th></th>\n",
              "      <th>State</th>\n",
              "      <th>Account Length</th>\n",
              "      <th>Area Code</th>\n",
              "      <th>Phone</th>\n",
              "      <th>Int'l Plan</th>\n",
              "      <th>VMail Plan</th>\n",
              "      <th>VMail Message</th>\n",
              "      <th>Day Mins</th>\n",
              "      <th>Day Calls</th>\n",
              "      <th>Day Charge</th>\n",
              "      <th>...</th>\n",
              "      <th>Eve Charge</th>\n",
              "      <th>Night Mins</th>\n",
              "      <th>Night Calls</th>\n",
              "      <th>Night Charge</th>\n",
              "      <th>Intl Mins</th>\n",
              "      <th>Intl Calls</th>\n",
              "      <th>Intl Charge</th>\n",
              "      <th>CustServ Calls</th>\n",
              "      <th>Churn?</th>\n",
              "      <th>True.</th>\n",
              "    </tr>\n",
              "  </thead>\n",
              "  <tbody>\n",
              "    <tr>\n",
              "      <th>0</th>\n",
              "      <td>KS</td>\n",
              "      <td>128</td>\n",
              "      <td>415</td>\n",
              "      <td>382-4657</td>\n",
              "      <td>no</td>\n",
              "      <td>yes</td>\n",
              "      <td>25</td>\n",
              "      <td>265.1</td>\n",
              "      <td>110</td>\n",
              "      <td>45.07</td>\n",
              "      <td>...</td>\n",
              "      <td>16.78</td>\n",
              "      <td>244.7</td>\n",
              "      <td>91</td>\n",
              "      <td>11.01</td>\n",
              "      <td>10.0</td>\n",
              "      <td>3</td>\n",
              "      <td>2.70</td>\n",
              "      <td>1</td>\n",
              "      <td>False.</td>\n",
              "      <td>0</td>\n",
              "    </tr>\n",
              "    <tr>\n",
              "      <th>1</th>\n",
              "      <td>OH</td>\n",
              "      <td>107</td>\n",
              "      <td>415</td>\n",
              "      <td>371-7191</td>\n",
              "      <td>no</td>\n",
              "      <td>yes</td>\n",
              "      <td>26</td>\n",
              "      <td>161.6</td>\n",
              "      <td>123</td>\n",
              "      <td>27.47</td>\n",
              "      <td>...</td>\n",
              "      <td>16.62</td>\n",
              "      <td>254.4</td>\n",
              "      <td>103</td>\n",
              "      <td>11.45</td>\n",
              "      <td>13.7</td>\n",
              "      <td>3</td>\n",
              "      <td>3.70</td>\n",
              "      <td>1</td>\n",
              "      <td>False.</td>\n",
              "      <td>0</td>\n",
              "    </tr>\n",
              "    <tr>\n",
              "      <th>2</th>\n",
              "      <td>NJ</td>\n",
              "      <td>137</td>\n",
              "      <td>415</td>\n",
              "      <td>358-1921</td>\n",
              "      <td>no</td>\n",
              "      <td>no</td>\n",
              "      <td>0</td>\n",
              "      <td>243.4</td>\n",
              "      <td>114</td>\n",
              "      <td>41.38</td>\n",
              "      <td>...</td>\n",
              "      <td>10.30</td>\n",
              "      <td>162.6</td>\n",
              "      <td>104</td>\n",
              "      <td>7.32</td>\n",
              "      <td>12.2</td>\n",
              "      <td>5</td>\n",
              "      <td>3.29</td>\n",
              "      <td>0</td>\n",
              "      <td>False.</td>\n",
              "      <td>0</td>\n",
              "    </tr>\n",
              "    <tr>\n",
              "      <th>3</th>\n",
              "      <td>OH</td>\n",
              "      <td>84</td>\n",
              "      <td>408</td>\n",
              "      <td>375-9999</td>\n",
              "      <td>yes</td>\n",
              "      <td>no</td>\n",
              "      <td>0</td>\n",
              "      <td>299.4</td>\n",
              "      <td>71</td>\n",
              "      <td>50.90</td>\n",
              "      <td>...</td>\n",
              "      <td>5.26</td>\n",
              "      <td>196.9</td>\n",
              "      <td>89</td>\n",
              "      <td>8.86</td>\n",
              "      <td>6.6</td>\n",
              "      <td>7</td>\n",
              "      <td>1.78</td>\n",
              "      <td>2</td>\n",
              "      <td>False.</td>\n",
              "      <td>0</td>\n",
              "    </tr>\n",
              "    <tr>\n",
              "      <th>4</th>\n",
              "      <td>OK</td>\n",
              "      <td>75</td>\n",
              "      <td>415</td>\n",
              "      <td>330-6626</td>\n",
              "      <td>yes</td>\n",
              "      <td>no</td>\n",
              "      <td>0</td>\n",
              "      <td>166.7</td>\n",
              "      <td>113</td>\n",
              "      <td>28.34</td>\n",
              "      <td>...</td>\n",
              "      <td>12.61</td>\n",
              "      <td>186.9</td>\n",
              "      <td>121</td>\n",
              "      <td>8.41</td>\n",
              "      <td>10.1</td>\n",
              "      <td>3</td>\n",
              "      <td>2.73</td>\n",
              "      <td>3</td>\n",
              "      <td>False.</td>\n",
              "      <td>0</td>\n",
              "    </tr>\n",
              "    <tr>\n",
              "      <th>...</th>\n",
              "      <td>...</td>\n",
              "      <td>...</td>\n",
              "      <td>...</td>\n",
              "      <td>...</td>\n",
              "      <td>...</td>\n",
              "      <td>...</td>\n",
              "      <td>...</td>\n",
              "      <td>...</td>\n",
              "      <td>...</td>\n",
              "      <td>...</td>\n",
              "      <td>...</td>\n",
              "      <td>...</td>\n",
              "      <td>...</td>\n",
              "      <td>...</td>\n",
              "      <td>...</td>\n",
              "      <td>...</td>\n",
              "      <td>...</td>\n",
              "      <td>...</td>\n",
              "      <td>...</td>\n",
              "      <td>...</td>\n",
              "      <td>...</td>\n",
              "    </tr>\n",
              "    <tr>\n",
              "      <th>3328</th>\n",
              "      <td>AZ</td>\n",
              "      <td>192</td>\n",
              "      <td>415</td>\n",
              "      <td>414-4276</td>\n",
              "      <td>no</td>\n",
              "      <td>yes</td>\n",
              "      <td>36</td>\n",
              "      <td>156.2</td>\n",
              "      <td>77</td>\n",
              "      <td>26.55</td>\n",
              "      <td>...</td>\n",
              "      <td>18.32</td>\n",
              "      <td>279.1</td>\n",
              "      <td>83</td>\n",
              "      <td>12.56</td>\n",
              "      <td>9.9</td>\n",
              "      <td>6</td>\n",
              "      <td>2.67</td>\n",
              "      <td>2</td>\n",
              "      <td>False.</td>\n",
              "      <td>0</td>\n",
              "    </tr>\n",
              "    <tr>\n",
              "      <th>3329</th>\n",
              "      <td>WV</td>\n",
              "      <td>68</td>\n",
              "      <td>415</td>\n",
              "      <td>370-3271</td>\n",
              "      <td>no</td>\n",
              "      <td>no</td>\n",
              "      <td>0</td>\n",
              "      <td>231.1</td>\n",
              "      <td>57</td>\n",
              "      <td>39.29</td>\n",
              "      <td>...</td>\n",
              "      <td>13.04</td>\n",
              "      <td>191.3</td>\n",
              "      <td>123</td>\n",
              "      <td>8.61</td>\n",
              "      <td>9.6</td>\n",
              "      <td>4</td>\n",
              "      <td>2.59</td>\n",
              "      <td>3</td>\n",
              "      <td>False.</td>\n",
              "      <td>0</td>\n",
              "    </tr>\n",
              "    <tr>\n",
              "      <th>3330</th>\n",
              "      <td>RI</td>\n",
              "      <td>28</td>\n",
              "      <td>510</td>\n",
              "      <td>328-8230</td>\n",
              "      <td>no</td>\n",
              "      <td>no</td>\n",
              "      <td>0</td>\n",
              "      <td>180.8</td>\n",
              "      <td>109</td>\n",
              "      <td>30.74</td>\n",
              "      <td>...</td>\n",
              "      <td>24.55</td>\n",
              "      <td>191.9</td>\n",
              "      <td>91</td>\n",
              "      <td>8.64</td>\n",
              "      <td>14.1</td>\n",
              "      <td>6</td>\n",
              "      <td>3.81</td>\n",
              "      <td>2</td>\n",
              "      <td>False.</td>\n",
              "      <td>0</td>\n",
              "    </tr>\n",
              "    <tr>\n",
              "      <th>3331</th>\n",
              "      <td>CT</td>\n",
              "      <td>184</td>\n",
              "      <td>510</td>\n",
              "      <td>364-6381</td>\n",
              "      <td>yes</td>\n",
              "      <td>no</td>\n",
              "      <td>0</td>\n",
              "      <td>213.8</td>\n",
              "      <td>105</td>\n",
              "      <td>36.35</td>\n",
              "      <td>...</td>\n",
              "      <td>13.57</td>\n",
              "      <td>139.2</td>\n",
              "      <td>137</td>\n",
              "      <td>6.26</td>\n",
              "      <td>5.0</td>\n",
              "      <td>10</td>\n",
              "      <td>1.35</td>\n",
              "      <td>2</td>\n",
              "      <td>False.</td>\n",
              "      <td>0</td>\n",
              "    </tr>\n",
              "    <tr>\n",
              "      <th>3332</th>\n",
              "      <td>TN</td>\n",
              "      <td>74</td>\n",
              "      <td>415</td>\n",
              "      <td>400-4344</td>\n",
              "      <td>no</td>\n",
              "      <td>yes</td>\n",
              "      <td>25</td>\n",
              "      <td>234.4</td>\n",
              "      <td>113</td>\n",
              "      <td>39.85</td>\n",
              "      <td>...</td>\n",
              "      <td>22.60</td>\n",
              "      <td>241.4</td>\n",
              "      <td>77</td>\n",
              "      <td>10.86</td>\n",
              "      <td>13.7</td>\n",
              "      <td>4</td>\n",
              "      <td>3.70</td>\n",
              "      <td>0</td>\n",
              "      <td>False.</td>\n",
              "      <td>0</td>\n",
              "    </tr>\n",
              "  </tbody>\n",
              "</table>\n",
              "<p>3333 rows × 22 columns</p>\n",
              "</div>\n",
              "      <button class=\"colab-df-convert\" onclick=\"convertToInteractive('df-c90841e4-5d73-42ab-ba1f-57c6f3c32e22')\"\n",
              "              title=\"Convert this dataframe to an interactive table.\"\n",
              "              style=\"display:none;\">\n",
              "        \n",
              "  <svg xmlns=\"http://www.w3.org/2000/svg\" height=\"24px\"viewBox=\"0 0 24 24\"\n",
              "       width=\"24px\">\n",
              "    <path d=\"M0 0h24v24H0V0z\" fill=\"none\"/>\n",
              "    <path d=\"M18.56 5.44l.94 2.06.94-2.06 2.06-.94-2.06-.94-.94-2.06-.94 2.06-2.06.94zm-11 1L8.5 8.5l.94-2.06 2.06-.94-2.06-.94L8.5 2.5l-.94 2.06-2.06.94zm10 10l.94 2.06.94-2.06 2.06-.94-2.06-.94-.94-2.06-.94 2.06-2.06.94z\"/><path d=\"M17.41 7.96l-1.37-1.37c-.4-.4-.92-.59-1.43-.59-.52 0-1.04.2-1.43.59L10.3 9.45l-7.72 7.72c-.78.78-.78 2.05 0 2.83L4 21.41c.39.39.9.59 1.41.59.51 0 1.02-.2 1.41-.59l7.78-7.78 2.81-2.81c.8-.78.8-2.07 0-2.86zM5.41 20L4 18.59l7.72-7.72 1.47 1.35L5.41 20z\"/>\n",
              "  </svg>\n",
              "      </button>\n",
              "      \n",
              "  <style>\n",
              "    .colab-df-container {\n",
              "      display:flex;\n",
              "      flex-wrap:wrap;\n",
              "      gap: 12px;\n",
              "    }\n",
              "\n",
              "    .colab-df-convert {\n",
              "      background-color: #E8F0FE;\n",
              "      border: none;\n",
              "      border-radius: 50%;\n",
              "      cursor: pointer;\n",
              "      display: none;\n",
              "      fill: #1967D2;\n",
              "      height: 32px;\n",
              "      padding: 0 0 0 0;\n",
              "      width: 32px;\n",
              "    }\n",
              "\n",
              "    .colab-df-convert:hover {\n",
              "      background-color: #E2EBFA;\n",
              "      box-shadow: 0px 1px 2px rgba(60, 64, 67, 0.3), 0px 1px 3px 1px rgba(60, 64, 67, 0.15);\n",
              "      fill: #174EA6;\n",
              "    }\n",
              "\n",
              "    [theme=dark] .colab-df-convert {\n",
              "      background-color: #3B4455;\n",
              "      fill: #D2E3FC;\n",
              "    }\n",
              "\n",
              "    [theme=dark] .colab-df-convert:hover {\n",
              "      background-color: #434B5C;\n",
              "      box-shadow: 0px 1px 3px 1px rgba(0, 0, 0, 0.15);\n",
              "      filter: drop-shadow(0px 1px 2px rgba(0, 0, 0, 0.3));\n",
              "      fill: #FFFFFF;\n",
              "    }\n",
              "  </style>\n",
              "\n",
              "      <script>\n",
              "        const buttonEl =\n",
              "          document.querySelector('#df-c90841e4-5d73-42ab-ba1f-57c6f3c32e22 button.colab-df-convert');\n",
              "        buttonEl.style.display =\n",
              "          google.colab.kernel.accessAllowed ? 'block' : 'none';\n",
              "\n",
              "        async function convertToInteractive(key) {\n",
              "          const element = document.querySelector('#df-c90841e4-5d73-42ab-ba1f-57c6f3c32e22');\n",
              "          const dataTable =\n",
              "            await google.colab.kernel.invokeFunction('convertToInteractive',\n",
              "                                                     [key], {});\n",
              "          if (!dataTable) return;\n",
              "\n",
              "          const docLinkHtml = 'Like what you see? Visit the ' +\n",
              "            '<a target=\"_blank\" href=https://colab.research.google.com/notebooks/data_table.ipynb>data table notebook</a>'\n",
              "            + ' to learn more about interactive tables.';\n",
              "          element.innerHTML = '';\n",
              "          dataTable['output_type'] = 'display_data';\n",
              "          await google.colab.output.renderOutput(dataTable, element);\n",
              "          const docLink = document.createElement('div');\n",
              "          docLink.innerHTML = docLinkHtml;\n",
              "          element.appendChild(docLink);\n",
              "        }\n",
              "      </script>\n",
              "    </div>\n",
              "  </div>\n",
              "  "
            ]
          },
          "metadata": {},
          "execution_count": 293
        }
      ]
    },
    {
      "cell_type": "markdown",
      "source": [
        "Por lo entendido, la distribucion de Churn es Bernoulli, donde dependiendo del caso de la empresa, 1 es exito y 0 es fracaso"
      ],
      "metadata": {
        "id": "VPSBuZV6A0w2"
      }
    },
    {
      "cell_type": "markdown",
      "metadata": {
        "id": "gnKKbfKZrQnD"
      },
      "source": [
        "# Ejercicio 4.7\n",
        "Entrene una Regresión Logística creando Y y X con la información en IntlCharge.\n"
      ]
    },
    {
      "cell_type": "code",
      "source": [
        "Y=data2['True.'].values\n",
        "X=data2['Intl Charge'].values\n",
        "data2['Churn?'].value_counts()\n",
        "data2['True.'].value_counts()"
      ],
      "metadata": {
        "id": "lPbebKN6WfIh",
        "colab": {
          "base_uri": "https://localhost:8080/"
        },
        "outputId": "dfbb92e7-13ab-4179-d780-a89d4400016a"
      },
      "execution_count": 294,
      "outputs": [
        {
          "output_type": "execute_result",
          "data": {
            "text/plain": [
              "0    2850\n",
              "1     483\n",
              "Name: True., dtype: int64"
            ]
          },
          "metadata": {},
          "execution_count": 294
        }
      ]
    },
    {
      "cell_type": "code",
      "source": [
        "# ajustar un modelo de regresión logística y almacenar las predicciones de clase\n",
        "from sklearn.linear_model import LogisticRegression\n",
        "logreg = LogisticRegression(solver='liblinear',C=1e9)\n",
        "feature_cols = ['Intl Charge']\n",
        "X = data2[feature_cols].values\n",
        "y = data2['True.'].values\n",
        "logreg.fit(X, y)\n",
        "data2['Exito'] = logreg.predict(X)"
      ],
      "metadata": {
        "id": "gGm9kSX8CAg2"
      },
      "execution_count": 295,
      "outputs": []
    },
    {
      "cell_type": "markdown",
      "metadata": {
        "id": "ErUjHQE5rQnE"
      },
      "source": [
        "# Ejercicio 4.8\n",
        "\n",
        "¿Cuáles son los coeficientes de la regresión logística? Interpretelos para un valor de IntlCharge = 1.\n",
        "\n",
        "\n"
      ]
    },
    {
      "cell_type": "code",
      "source": [
        "# calcula las probabilidades logarítmicas predichas para IntLCharge=1 utilizando la ecuación\n",
        "logodds = logreg.intercept_ + logreg.coef_[0] * 1\n",
        "logodds"
      ],
      "metadata": {
        "id": "grKzgyWwWgo4",
        "colab": {
          "base_uri": "https://localhost:8080/"
        },
        "outputId": "b2f803c3-3062-4742-e081-cf33010ee56c"
      },
      "execution_count": 296,
      "outputs": [
        {
          "output_type": "execute_result",
          "data": {
            "text/plain": [
              "array([-2.25184351])"
            ]
          },
          "metadata": {},
          "execution_count": 296
        }
      ]
    },
    {
      "cell_type": "code",
      "source": [
        "# convierte las odds logarítmicas en odds\n",
        "odds = np.exp(logodds)\n",
        "odds"
      ],
      "metadata": {
        "colab": {
          "base_uri": "https://localhost:8080/"
        },
        "id": "glrwajZzEcLl",
        "outputId": "d9014cf4-f4d9-45cd-afbb-dce02c14506f"
      },
      "execution_count": 297,
      "outputs": [
        {
          "output_type": "execute_result",
          "data": {
            "text/plain": [
              "array([0.1052051])"
            ]
          },
          "metadata": {},
          "execution_count": 297
        }
      ]
    },
    {
      "cell_type": "code",
      "source": [
        "# Convertir los odds en probabilidad\n",
        "prob = odds/(1 + odds)\n",
        "prob"
      ],
      "metadata": {
        "colab": {
          "base_uri": "https://localhost:8080/"
        },
        "id": "KbLCyTIZEePU",
        "outputId": "0ed31c51-12d1-49cb-94da-79bba144ac8e"
      },
      "execution_count": 298,
      "outputs": [
        {
          "output_type": "execute_result",
          "data": {
            "text/plain": [
              "array([0.09519057])"
            ]
          },
          "metadata": {},
          "execution_count": 298
        }
      ]
    },
    {
      "cell_type": "code",
      "source": [
        "# examinar el coeficiente de al\n",
        "feature_cols, logreg.coef_[0] , logreg.intercept_"
      ],
      "metadata": {
        "colab": {
          "base_uri": "https://localhost:8080/"
        },
        "id": "9eNcBTzKEjz7",
        "outputId": "5671c31e-f6da-4a47-9e48-b9392d8a1260"
      },
      "execution_count": 299,
      "outputs": [
        {
          "output_type": "execute_result",
          "data": {
            "text/plain": [
              "(['Intl Charge'], array([0.2624392]), array([-2.51428271]))"
            ]
          },
          "metadata": {},
          "execution_count": 299
        }
      ]
    },
    {
      "cell_type": "markdown",
      "source": [
        "El intercepto es de -2.5142 y el coeficiente para IntlCharge es 0.262, lo que significa que a un aumento de IntlCharge, corresponde un aumento de 0.2624 unidades en las probabilidades logaritmicas, en otras palabras, se incrementa la probabilidad de exito"
      ],
      "metadata": {
        "id": "QMXcG9GvFaxv"
      }
    },
    {
      "cell_type": "markdown",
      "metadata": {
        "id": "Lfvf_pqSkbzI"
      },
      "source": [
        "# Ejercicio 4.9\n",
        "\n",
        "Seleccione 3 variables independientes para entrenar una regresión logística. Interprete cada uno de los valores de los coeficientes en función de la variable churn.\n"
      ]
    },
    {
      "cell_type": "code",
      "source": [
        "X=data2[['Intl Mins','Day Calls','Night Mins']]\n",
        "Y\n",
        "X.corr() "
      ],
      "metadata": {
        "id": "-knBiiYbcXwn",
        "colab": {
          "base_uri": "https://localhost:8080/",
          "height": 143
        },
        "outputId": "25d7d4a8-4551-4f74-d476-d52d60472fe3"
      },
      "execution_count": 300,
      "outputs": [
        {
          "output_type": "execute_result",
          "data": {
            "text/plain": [
              "            Intl Mins  Day Calls  Night Mins\n",
              "Intl Mins    1.000000   0.021565   -0.015207\n",
              "Day Calls    0.021565   1.000000    0.022938\n",
              "Night Mins  -0.015207   0.022938    1.000000"
            ],
            "text/html": [
              "\n",
              "  <div id=\"df-03557afe-78b3-4ee3-8ac2-04549012c377\">\n",
              "    <div class=\"colab-df-container\">\n",
              "      <div>\n",
              "<style scoped>\n",
              "    .dataframe tbody tr th:only-of-type {\n",
              "        vertical-align: middle;\n",
              "    }\n",
              "\n",
              "    .dataframe tbody tr th {\n",
              "        vertical-align: top;\n",
              "    }\n",
              "\n",
              "    .dataframe thead th {\n",
              "        text-align: right;\n",
              "    }\n",
              "</style>\n",
              "<table border=\"1\" class=\"dataframe\">\n",
              "  <thead>\n",
              "    <tr style=\"text-align: right;\">\n",
              "      <th></th>\n",
              "      <th>Intl Mins</th>\n",
              "      <th>Day Calls</th>\n",
              "      <th>Night Mins</th>\n",
              "    </tr>\n",
              "  </thead>\n",
              "  <tbody>\n",
              "    <tr>\n",
              "      <th>Intl Mins</th>\n",
              "      <td>1.000000</td>\n",
              "      <td>0.021565</td>\n",
              "      <td>-0.015207</td>\n",
              "    </tr>\n",
              "    <tr>\n",
              "      <th>Day Calls</th>\n",
              "      <td>0.021565</td>\n",
              "      <td>1.000000</td>\n",
              "      <td>0.022938</td>\n",
              "    </tr>\n",
              "    <tr>\n",
              "      <th>Night Mins</th>\n",
              "      <td>-0.015207</td>\n",
              "      <td>0.022938</td>\n",
              "      <td>1.000000</td>\n",
              "    </tr>\n",
              "  </tbody>\n",
              "</table>\n",
              "</div>\n",
              "      <button class=\"colab-df-convert\" onclick=\"convertToInteractive('df-03557afe-78b3-4ee3-8ac2-04549012c377')\"\n",
              "              title=\"Convert this dataframe to an interactive table.\"\n",
              "              style=\"display:none;\">\n",
              "        \n",
              "  <svg xmlns=\"http://www.w3.org/2000/svg\" height=\"24px\"viewBox=\"0 0 24 24\"\n",
              "       width=\"24px\">\n",
              "    <path d=\"M0 0h24v24H0V0z\" fill=\"none\"/>\n",
              "    <path d=\"M18.56 5.44l.94 2.06.94-2.06 2.06-.94-2.06-.94-.94-2.06-.94 2.06-2.06.94zm-11 1L8.5 8.5l.94-2.06 2.06-.94-2.06-.94L8.5 2.5l-.94 2.06-2.06.94zm10 10l.94 2.06.94-2.06 2.06-.94-2.06-.94-.94-2.06-.94 2.06-2.06.94z\"/><path d=\"M17.41 7.96l-1.37-1.37c-.4-.4-.92-.59-1.43-.59-.52 0-1.04.2-1.43.59L10.3 9.45l-7.72 7.72c-.78.78-.78 2.05 0 2.83L4 21.41c.39.39.9.59 1.41.59.51 0 1.02-.2 1.41-.59l7.78-7.78 2.81-2.81c.8-.78.8-2.07 0-2.86zM5.41 20L4 18.59l7.72-7.72 1.47 1.35L5.41 20z\"/>\n",
              "  </svg>\n",
              "      </button>\n",
              "      \n",
              "  <style>\n",
              "    .colab-df-container {\n",
              "      display:flex;\n",
              "      flex-wrap:wrap;\n",
              "      gap: 12px;\n",
              "    }\n",
              "\n",
              "    .colab-df-convert {\n",
              "      background-color: #E8F0FE;\n",
              "      border: none;\n",
              "      border-radius: 50%;\n",
              "      cursor: pointer;\n",
              "      display: none;\n",
              "      fill: #1967D2;\n",
              "      height: 32px;\n",
              "      padding: 0 0 0 0;\n",
              "      width: 32px;\n",
              "    }\n",
              "\n",
              "    .colab-df-convert:hover {\n",
              "      background-color: #E2EBFA;\n",
              "      box-shadow: 0px 1px 2px rgba(60, 64, 67, 0.3), 0px 1px 3px 1px rgba(60, 64, 67, 0.15);\n",
              "      fill: #174EA6;\n",
              "    }\n",
              "\n",
              "    [theme=dark] .colab-df-convert {\n",
              "      background-color: #3B4455;\n",
              "      fill: #D2E3FC;\n",
              "    }\n",
              "\n",
              "    [theme=dark] .colab-df-convert:hover {\n",
              "      background-color: #434B5C;\n",
              "      box-shadow: 0px 1px 3px 1px rgba(0, 0, 0, 0.15);\n",
              "      filter: drop-shadow(0px 1px 2px rgba(0, 0, 0, 0.3));\n",
              "      fill: #FFFFFF;\n",
              "    }\n",
              "  </style>\n",
              "\n",
              "      <script>\n",
              "        const buttonEl =\n",
              "          document.querySelector('#df-03557afe-78b3-4ee3-8ac2-04549012c377 button.colab-df-convert');\n",
              "        buttonEl.style.display =\n",
              "          google.colab.kernel.accessAllowed ? 'block' : 'none';\n",
              "\n",
              "        async function convertToInteractive(key) {\n",
              "          const element = document.querySelector('#df-03557afe-78b3-4ee3-8ac2-04549012c377');\n",
              "          const dataTable =\n",
              "            await google.colab.kernel.invokeFunction('convertToInteractive',\n",
              "                                                     [key], {});\n",
              "          if (!dataTable) return;\n",
              "\n",
              "          const docLinkHtml = 'Like what you see? Visit the ' +\n",
              "            '<a target=\"_blank\" href=https://colab.research.google.com/notebooks/data_table.ipynb>data table notebook</a>'\n",
              "            + ' to learn more about interactive tables.';\n",
              "          element.innerHTML = '';\n",
              "          dataTable['output_type'] = 'display_data';\n",
              "          await google.colab.output.renderOutput(dataTable, element);\n",
              "          const docLink = document.createElement('div');\n",
              "          docLink.innerHTML = docLinkHtml;\n",
              "          element.appendChild(docLink);\n",
              "        }\n",
              "      </script>\n",
              "    </div>\n",
              "  </div>\n",
              "  "
            ]
          },
          "metadata": {},
          "execution_count": 300
        }
      ]
    },
    {
      "cell_type": "markdown",
      "source": [
        "Revisando las autocorrelaciones, las variables entre ellas tienen una autocorrelacion negativa y debil, por lo que se puede pensar en independencia entre ellas"
      ],
      "metadata": {
        "id": "dHYhV8wKzN3v"
      }
    },
    {
      "cell_type": "code",
      "source": [
        "# Ajustar un modelo de regresión logística y almacenar las predicciones de clase\n",
        "from sklearn.linear_model import LogisticRegression\n",
        "logreg = LogisticRegression(solver='liblinear',C=1e9)\n",
        "feature_cols = [['Intl Mins','Day Charge','Night Mins']]\n",
        "X=data2[['Intl Mins','Day Charge','Night Mins']].values\n",
        "y = data2['True.'].values\n",
        "logreg.fit(X, y)\n",
        "data2['Exito2'] = logreg.predict(X)\n",
        "data2['True.'].value_counts()"
      ],
      "metadata": {
        "colab": {
          "base_uri": "https://localhost:8080/"
        },
        "id": "xy5SoTqEVRlF",
        "outputId": "7a5d70bb-8b42-4627-c1a7-bf6f894df895"
      },
      "execution_count": 301,
      "outputs": [
        {
          "output_type": "execute_result",
          "data": {
            "text/plain": [
              "0    2850\n",
              "1     483\n",
              "Name: True., dtype: int64"
            ]
          },
          "metadata": {},
          "execution_count": 301
        }
      ]
    },
    {
      "cell_type": "code",
      "source": [
        "#### Intercepto y coeficientes\n",
        "print(logreg.intercept_ ,logreg.coef_)"
      ],
      "metadata": {
        "colab": {
          "base_uri": "https://localhost:8080/"
        },
        "id": "XQEOPF_uV988",
        "outputId": "e2e180e5-9b07-41f6-c6fb-a46258191b7f"
      },
      "execution_count": 302,
      "outputs": [
        {
          "output_type": "stream",
          "name": "stdout",
          "text": [
            "[-5.18418138] [[0.07707609 0.06695148 0.00212262]]\n"
          ]
        }
      ]
    },
    {
      "cell_type": "markdown",
      "source": [
        "Con respecto a los coeficiente para Intmin es 0.07707609, para Day Charge es 0.06695148 y para Night Mins es 0.00212262, lo que significa que a un aumento de Intlmin , Day Charge o Night mins le corresponden el respectivo aumento de unidades en las probabilidades logaritmicas, en otras palabras, se incrementa la probabilidad de exito"
      ],
      "metadata": {
        "id": "9bYsSy6i0dBy"
      }
    },
    {
      "cell_type": "markdown",
      "source": [
        "## Ejercicio 4.10\n",
        "\n",
        "Utilizando las 3 variables independientes del punto anterior, particione la base en training (90%) y validación (10%). Posterior, con la bases de training (90%) aplique un modelo de regresión logística usando K fold cross validation:\n",
        "* K = 2\n",
        "* K = 5\n",
        "* K = 10\n",
        "\n",
        "Calcule la precisión de test y la precisión de validación(10% restante) y compare los modelos."
      ],
      "metadata": {
        "id": "zb0Zb0Akb1Ry"
      }
    },
    {
      "cell_type": "markdown",
      "source": [
        "* Para k = 2"
      ],
      "metadata": {
        "id": "uOAAPtZ0Fmre"
      }
    },
    {
      "cell_type": "code",
      "source": [
        "X=data2[['Intl Mins','Day Charge','Night Mins']].values\n",
        "Y = data2['True.'].values"
      ],
      "metadata": {
        "id": "BCAApFoGE6qg"
      },
      "execution_count": 303,
      "outputs": []
    },
    {
      "cell_type": "code",
      "source": [
        "# Separando en el 90% de entrenamiento y 10% de validacion\n",
        "from sklearn.model_selection import train_test_split\n",
        "X_train, X_test, y_train, y_test = train_test_split(X, Y, test_size=0.10, random_state=1)\n",
        "print(X_train.shape, X_test.shape, y_train.shape, y_test.shape) #test_size= el 10% de los datos uselos para testear, random_state= es una semilla"
      ],
      "metadata": {
        "colab": {
          "base_uri": "https://localhost:8080/"
        },
        "id": "zjcYflx9D8tD",
        "outputId": "a925f1ab-573f-4905-9a3d-85b7f45467b5"
      },
      "execution_count": 304,
      "outputs": [
        {
          "output_type": "stream",
          "name": "stdout",
          "text": [
            "(2999, 3) (334, 3) (2999,) (334,)\n"
          ]
        }
      ]
    },
    {
      "cell_type": "code",
      "source": [
        "# Crear el metodo K fold CV\n",
        "from sklearn.model_selection import KFold\n",
        "cv = KFold(n_splits=2, random_state=666, shuffle=True) # shuffle que no sea el mismo orden cuando llegan los datos\n",
        "Logisticuwu = LogisticRegression(solver='liblinear',C=1e9)"
      ],
      "metadata": {
        "id": "sJRvFmEeFk0H"
      },
      "execution_count": 305,
      "outputs": []
    },
    {
      "cell_type": "code",
      "metadata": {
        "id": "QUslBeW1lABj",
        "colab": {
          "base_uri": "https://localhost:8080/"
        },
        "outputId": "11e56413-b1ad-4da2-cce3-527b004579dc"
      },
      "source": [
        "from sklearn.model_selection import cross_validate\n",
        "scores = cross_validate(Logisticuwu, X_train, y_train,scoring='accuracy',cv=cv, return_estimator=True) # scoring= Metrica para evaluar el modelo, n_jobs= usar mas particiones de memoria para que sea mas rapido\n",
        "scores\n",
        "for model in scores['estimator']:\n",
        "    print(model.intercept_,model.coef_)"
      ],
      "execution_count": 306,
      "outputs": [
        {
          "output_type": "stream",
          "name": "stdout",
          "text": [
            "[-5.26561647] [[0.09037392 0.0724892  0.00098921]]\n",
            "[-4.81031748] [[0.04816447 0.05719485 0.00326893]]\n"
          ]
        }
      ]
    },
    {
      "cell_type": "code",
      "source": [
        "scores['test_score']"
      ],
      "metadata": {
        "colab": {
          "base_uri": "https://localhost:8080/"
        },
        "id": "D0AZl6vHGuKT",
        "outputId": "e344197a-29cf-4fba-b517-48fa2e807be1"
      },
      "execution_count": 307,
      "outputs": [
        {
          "output_type": "execute_result",
          "data": {
            "text/plain": [
              "array([0.862     , 0.85256838])"
            ]
          },
          "metadata": {},
          "execution_count": 307
        }
      ]
    },
    {
      "cell_type": "code",
      "source": [
        "intercepto=[];beta_0=[];beta_1=[];beta_2=[]\n",
        "for j in range(0,2,1):\n",
        "  intercepto.append (scores['estimator'][j].intercept_[0])\n",
        "  beta_0.append (scores['estimator'][j].coef_[0][0])\n",
        "  beta_1.append (scores['estimator'][j].coef_[0][1])\n",
        "  beta_2.append (scores['estimator'][j].coef_[0][2])\n",
        "print(np.mean(intercepto),np.mean(beta_0),np.mean(beta_1),np.mean(beta_2))"
      ],
      "metadata": {
        "colab": {
          "base_uri": "https://localhost:8080/"
        },
        "id": "JXuZsG-PKBiC",
        "outputId": "0ef7819c-0410-41b8-ebe7-32b5b7304d00"
      },
      "execution_count": 308,
      "outputs": [
        {
          "output_type": "stream",
          "name": "stdout",
          "text": [
            "-5.03796697765871 0.06926919647308036 0.06484202474319833 0.0021290689356612408\n"
          ]
        }
      ]
    },
    {
      "cell_type": "code",
      "source": [
        "logodds = np.mean(intercepto)+np.mean(beta_0)+np.mean(beta_1)+np.mean(beta_2)\n",
        "logodds"
      ],
      "metadata": {
        "colab": {
          "base_uri": "https://localhost:8080/"
        },
        "id": "QRb3wjyvL3HU",
        "outputId": "dfe74730-7ef3-49b2-aef9-f2948d91ada2"
      },
      "execution_count": 309,
      "outputs": [
        {
          "output_type": "execute_result",
          "data": {
            "text/plain": [
              "-4.90172668750677"
            ]
          },
          "metadata": {},
          "execution_count": 309
        }
      ]
    },
    {
      "cell_type": "code",
      "source": [
        "y_pred=[]\n",
        "for i in range(0,334,1):\n",
        "  ods = np.exp(np.mean(intercepto)+np.mean(beta_0)*X_test[i][0]+np.mean(beta_1)*X_test[i][1]+np.mean(beta_2)*X_test[i][2])\n",
        "  proba = ods/(1-ods)\n",
        "  if proba<=0.5:\n",
        "    y_pred.append(0)\n",
        "  else:\n",
        "    y_pred.append(1)"
      ],
      "metadata": {
        "id": "WLosH-a7Ml7u"
      },
      "execution_count": 310,
      "outputs": []
    },
    {
      "cell_type": "code",
      "source": [
        "from sklearn import metrics\n",
        "print(' Agrupamiento Precision :', metrics.accuracy_score(y_test, y_pred))"
      ],
      "metadata": {
        "colab": {
          "base_uri": "https://localhost:8080/"
        },
        "id": "YT5OuwRPOm6k",
        "outputId": "fa17cbf5-bedf-4f09-962f-e06b06bfd06e"
      },
      "execution_count": 311,
      "outputs": [
        {
          "output_type": "stream",
          "name": "stdout",
          "text": [
            " Agrupamiento Precision : 0.8353293413173652\n"
          ]
        }
      ]
    },
    {
      "cell_type": "markdown",
      "source": [
        "La precision para el testeo es de 0.8353293413173652"
      ],
      "metadata": {
        "id": "4CsXNyPNRzcG"
      }
    },
    {
      "cell_type": "markdown",
      "source": [
        "* Para k = 5"
      ],
      "metadata": {
        "id": "7lhllNkyQZVU"
      }
    },
    {
      "cell_type": "code",
      "source": [
        "# Crear el metodo K fold CV\n",
        "from sklearn.model_selection import KFold\n",
        "cv = KFold(n_splits=5, random_state=666, shuffle=True) # shuffle que no sea el mismo orden cuando llegan los datos\n",
        "Logisticuwu = LogisticRegression(solver='liblinear',C=1e9)"
      ],
      "metadata": {
        "id": "3lT_ZXllQgas"
      },
      "execution_count": 312,
      "outputs": []
    },
    {
      "cell_type": "code",
      "source": [
        "from sklearn.model_selection import cross_validate\n",
        "scores = cross_validate(Logisticuwu, X_train, y_train,scoring='accuracy',cv=cv, return_estimator=True) # scoring= Metrica para evaluar el modelo, n_jobs= usar mas particiones de memoria para que sea mas rapido\n",
        "scores\n",
        "for model in scores['estimator']:\n",
        "    print(model.intercept_,model.coef_)"
      ],
      "metadata": {
        "colab": {
          "base_uri": "https://localhost:8080/"
        },
        "id": "nXL-0huaQiLD",
        "outputId": "307d94e8-59de-40d6-9616-ab480c0c2fb4"
      },
      "execution_count": 313,
      "outputs": [
        {
          "output_type": "stream",
          "name": "stdout",
          "text": [
            "[-5.49817656] [[0.08711488 0.07253111 0.0020914 ]]\n",
            "[-4.9796943] [[0.07249306 0.06475871 0.00192195]]\n",
            "[-4.97433682] [[0.06537109 0.06477868 0.00191093]]\n",
            "[-5.3628106] [[0.07168437 0.06857526 0.00291933]]\n",
            "[-5.06424641] [[0.07074939 0.06087861 0.00285018]]\n"
          ]
        }
      ]
    },
    {
      "cell_type": "code",
      "source": [
        "scores['test_score']"
      ],
      "metadata": {
        "id": "mIAG2Ow1Qj4T",
        "colab": {
          "base_uri": "https://localhost:8080/"
        },
        "outputId": "0223f16b-6753-4a01-bce3-af967914f558"
      },
      "execution_count": 314,
      "outputs": [
        {
          "output_type": "execute_result",
          "data": {
            "text/plain": [
              "array([0.855     , 0.88      , 0.84166667, 0.85666667, 0.85475793])"
            ]
          },
          "metadata": {},
          "execution_count": 314
        }
      ]
    },
    {
      "cell_type": "code",
      "source": [
        "intercepto=[];beta_0=[];beta_1=[];beta_2=[]\n",
        "for j in range(0,5,1):\n",
        "  intercepto.append (scores['estimator'][j].intercept_[0])\n",
        "  beta_0.append (scores['estimator'][j].coef_[0][0])\n",
        "  beta_1.append (scores['estimator'][j].coef_[0][1])\n",
        "  beta_2.append (scores['estimator'][j].coef_[0][2])\n",
        "print(np.mean(intercepto),np.mean(beta_0),np.mean(beta_1),np.mean(beta_2))"
      ],
      "metadata": {
        "colab": {
          "base_uri": "https://localhost:8080/"
        },
        "id": "bBw9lH4gQlsy",
        "outputId": "be7d10af-6040-48d0-b132-47aeed15a653"
      },
      "execution_count": 315,
      "outputs": [
        {
          "output_type": "stream",
          "name": "stdout",
          "text": [
            "-5.1758529392583075 0.07348255933575336 0.06630447460336113 0.002338755563257021\n"
          ]
        }
      ]
    },
    {
      "cell_type": "code",
      "source": [
        "y_pred=[]\n",
        "for i in range(0,334,1):\n",
        "  ods = np.exp(np.mean(intercepto)+np.mean(beta_0)*X_test[i][0]+np.mean(beta_1)*X_test[i][1]+np.mean(beta_2)*X_test[i][2])\n",
        "  proba = ods/(1-ods)\n",
        "  if proba<=0.5:\n",
        "    y_pred.append(0)\n",
        "  else:\n",
        "    y_pred.append(1)"
      ],
      "metadata": {
        "id": "IoQjzRCgQrBi"
      },
      "execution_count": 316,
      "outputs": []
    },
    {
      "cell_type": "code",
      "source": [
        "from sklearn import metrics\n",
        "print(' Agrupamiento Precision :', metrics.accuracy_score(y_test, y_pred))"
      ],
      "metadata": {
        "colab": {
          "base_uri": "https://localhost:8080/"
        },
        "id": "ZX5k-ooSQsrp",
        "outputId": "2ad87d10-08c1-4cd9-dd34-4878803a3c96"
      },
      "execution_count": 317,
      "outputs": [
        {
          "output_type": "stream",
          "name": "stdout",
          "text": [
            " Agrupamiento Precision : 0.8293413173652695\n"
          ]
        }
      ]
    },
    {
      "cell_type": "markdown",
      "source": [
        "La precision para el testeo con k= 5 es de 0.8293413173652695"
      ],
      "metadata": {
        "id": "yrC_2V1LSHxd"
      }
    },
    {
      "cell_type": "markdown",
      "source": [
        "* Para k = 10"
      ],
      "metadata": {
        "id": "VXZtAIZdSMsc"
      }
    },
    {
      "cell_type": "code",
      "source": [
        "# Crear el metodo K fold CV\n",
        "from sklearn.model_selection import KFold\n",
        "cv = KFold(n_splits=10, random_state=666, shuffle=True) # shuffle que no sea el mismo orden cuando llegan los datos\n",
        "Logisticuwu = LogisticRegression(solver='liblinear',C=1e9)"
      ],
      "metadata": {
        "id": "bar02DRZSZoy"
      },
      "execution_count": 318,
      "outputs": []
    },
    {
      "cell_type": "code",
      "source": [
        "from sklearn.model_selection import cross_validate\n",
        "scores = cross_validate(Logisticuwu, X_train, y_train,scoring='accuracy',cv=cv, return_estimator=True) # scoring= Metrica para evaluar el modelo, n_jobs= usar mas particiones de memoria para que sea mas rapido\n",
        "scores\n",
        "for model in scores['estimator']:\n",
        "    print(model.intercept_,model.coef_)"
      ],
      "metadata": {
        "colab": {
          "base_uri": "https://localhost:8080/"
        },
        "id": "7MlJjP2zSxfX",
        "outputId": "31d353aa-a1a5-45e0-eeb9-02729201c8f9"
      },
      "execution_count": 319,
      "outputs": [
        {
          "output_type": "stream",
          "name": "stdout",
          "text": [
            "[-5.2613077] [[0.07665534 0.06959029 0.00199338]]\n",
            "[-5.33831815] [[0.08127288 0.06818486 0.00241213]]\n",
            "[-5.18362512] [[0.07542982 0.065889   0.00240658]]\n",
            "[-5.14660306] [[0.07545366 0.06681551 0.0021487 ]]\n",
            "[-5.35342485] [[0.07922063 0.06794637 0.00254979]]\n",
            "[-4.90473613] [[0.06323256 0.06408931 0.00189481]]\n",
            "[-5.32852278] [[0.08339321 0.06792509 0.00231469]]\n",
            "[-5.20250467] [[0.06242738 0.06679011 0.00290768]]\n",
            "[-5.40580341] [[0.08460635 0.06705313 0.00274968]]\n",
            "[-4.75773854] [[0.0571729  0.05995299 0.00222968]]\n"
          ]
        }
      ]
    },
    {
      "cell_type": "code",
      "source": [
        "scores['test_score']"
      ],
      "metadata": {
        "colab": {
          "base_uri": "https://localhost:8080/"
        },
        "id": "KxU-XZCuS3Gn",
        "outputId": "96a9624b-9a0a-435f-a001-b9301b3073df"
      },
      "execution_count": 320,
      "outputs": [
        {
          "output_type": "execute_result",
          "data": {
            "text/plain": [
              "array([0.84666667, 0.86333333, 0.87666667, 0.88333333, 0.84      ,\n",
              "       0.84333333, 0.86666667, 0.84666667, 0.86      , 0.85284281])"
            ]
          },
          "metadata": {},
          "execution_count": 320
        }
      ]
    },
    {
      "cell_type": "code",
      "source": [
        "intercepto=[];beta_0=[];beta_1=[];beta_2=[]\n",
        "for j in range(0,10,1):\n",
        "  intercepto.append (scores['estimator'][j].intercept_[0])\n",
        "  beta_0.append (scores['estimator'][j].coef_[0][0])\n",
        "  beta_1.append (scores['estimator'][j].coef_[0][1])\n",
        "  beta_2.append (scores['estimator'][j].coef_[0][2])\n",
        "print(np.mean(intercepto),np.mean(beta_0),np.mean(beta_1),np.mean(beta_2))"
      ],
      "metadata": {
        "colab": {
          "base_uri": "https://localhost:8080/"
        },
        "id": "vj7KSDlaS5XO",
        "outputId": "9b205100-0d16-49a7-bf81-884f7d6466b5"
      },
      "execution_count": 321,
      "outputs": [
        {
          "output_type": "stream",
          "name": "stdout",
          "text": [
            "-5.1882584404586725 0.07388647344591046 0.06642366580854381 0.002360713207851385\n"
          ]
        }
      ]
    },
    {
      "cell_type": "code",
      "source": [
        "y_pred=[]\n",
        "for i in range(0,334,1):\n",
        "  ods = np.exp(np.mean(intercepto)+np.mean(beta_0)*X_test[i][0]+np.mean(beta_1)*X_test[i][1]+np.mean(beta_2)*X_test[i][2])\n",
        "  proba = ods/(1-ods)\n",
        "  if proba<=0.5:\n",
        "    y_pred.append(0)\n",
        "  else:\n",
        "    y_pred.append(1)"
      ],
      "metadata": {
        "id": "V956A4g-S71N"
      },
      "execution_count": 322,
      "outputs": []
    },
    {
      "cell_type": "code",
      "source": [
        "from sklearn import metrics\n",
        "print(' Agrupamiento Precision :', metrics.accuracy_score(y_test, y_pred))"
      ],
      "metadata": {
        "colab": {
          "base_uri": "https://localhost:8080/"
        },
        "id": "mNo_sRNFS9Y9",
        "outputId": "694d8cc1-a9be-40d2-f845-c45cdede8ff3"
      },
      "execution_count": 323,
      "outputs": [
        {
          "output_type": "stream",
          "name": "stdout",
          "text": [
            " Agrupamiento Precision : 0.8293413173652695\n"
          ]
        }
      ]
    },
    {
      "cell_type": "markdown",
      "source": [
        "Con k = 10, la precision en la Y de testeo es de 0.8293413173652695, pero la mayor precision se alcanza con K=2, pero de igual forma no una diferencia significativa"
      ],
      "metadata": {
        "id": "_vnzg825Uc_e"
      }
    }
  ]
}